{
 "cells": [
  {
   "cell_type": "code",
   "execution_count": 15,
   "id": "d6bbd9ef-3f17-4a09-8879-c3b610d6b4ba",
   "metadata": {},
   "outputs": [],
   "source": [
    "from sqlalchemy import create_engine, Column, String, Float, Integer, MetaData, Table\n",
    "from sqlalchemy.orm import sessionmaker\n"
   ]
  },
  {
   "cell_type": "code",
   "execution_count": 16,
   "id": "e84d2c4a-222d-41d7-a24d-87dc572cbe52",
   "metadata": {},
   "outputs": [],
   "source": [
    "from sklearn.model_selection import train_test_split\n",
    "from sklearn.ensemble import RandomForestRegressor, RandomForestClassifier\n",
    "from sklearn.metrics import mean_squared_error, r2_score, accuracy_score, classification_report"
   ]
  },
  {
   "cell_type": "code",
   "execution_count": 17,
   "id": "60fc5900-f167-4d15-8ca9-4033f85e70ab",
   "metadata": {},
   "outputs": [],
   "source": [
    "import numpy as np\n",
    "import matplotlib.pyplot as plt\n",
    "import seaborn as sns\n"
   ]
  },
  {
   "cell_type": "code",
   "execution_count": 18,
   "id": "61b59119-9313-4d88-957d-72734525caa9",
   "metadata": {},
   "outputs": [
    {
     "name": "stdout",
     "output_type": "stream",
     "text": [
      "Fetched page 120 → 100 records (Total so far: 12000)\n"
     ]
    }
   ],
   "source": [
    "import requests\n",
    "import pandas as pd\n",
    "\n",
    "base_url =f\"https://world.openfoodfacts.org/api/v2/search?categories=chocolates&fields=code,product_name,brands,nutriments&page_size=100&page=1\"\n",
    "\n",
    "\n",
    "all_data = []\n",
    "for page in range(1, 121):\n",
    "    \n",
    "    response = requests.get(base_url) \n",
    "    data = response.json()\n",
    "    products = data.get(\"products\", [])\n",
    "    all_data.extend(products) # append results\n",
    "\n",
    "\n",
    "print(f\"Fetched page {page} → {len(products)} records (Total so far: {len(all_data)})\")"
   ]
  },
  {
   "cell_type": "code",
   "execution_count": 48,
   "id": "0140ea43-e41d-402e-a184-4234197d7ead",
   "metadata": {},
   "outputs": [
    {
     "data": {
      "text/html": [
       "<div>\n",
       "<style scoped>\n",
       "    .dataframe tbody tr th:only-of-type {\n",
       "        vertical-align: middle;\n",
       "    }\n",
       "\n",
       "    .dataframe tbody tr th {\n",
       "        vertical-align: top;\n",
       "    }\n",
       "\n",
       "    .dataframe thead th {\n",
       "        text-align: right;\n",
       "    }\n",
       "</style>\n",
       "<table border=\"1\" class=\"dataframe\">\n",
       "  <thead>\n",
       "    <tr style=\"text-align: right;\">\n",
       "      <th></th>\n",
       "      <th>brands</th>\n",
       "      <th>code</th>\n",
       "      <th>nutriments</th>\n",
       "      <th>product_name</th>\n",
       "    </tr>\n",
       "  </thead>\n",
       "  <tbody>\n",
       "    <tr>\n",
       "      <th>0</th>\n",
       "      <td>Sidi Ali</td>\n",
       "      <td>6111035000430</td>\n",
       "      <td>{'carbohydrates': 42, 'carbohydrates_100g': 4....</td>\n",
       "      <td>Sidi Ali</td>\n",
       "    </tr>\n",
       "    <tr>\n",
       "      <th>1</th>\n",
       "      <td>Jaouda</td>\n",
       "      <td>6111242100992</td>\n",
       "      <td>{'calcium': 0.25, 'calcium_100g': 0.25, 'calci...</td>\n",
       "      <td>Perly</td>\n",
       "    </tr>\n",
       "    <tr>\n",
       "      <th>2</th>\n",
       "      <td>sidi ali</td>\n",
       "      <td>6111035002175</td>\n",
       "      <td>{'chloride': 0.014, 'chloride_100g': 0.014, 'c...</td>\n",
       "      <td>Sidi Ali</td>\n",
       "    </tr>\n",
       "    <tr>\n",
       "      <th>3</th>\n",
       "      <td>Les Eaux Minérales d'oulmès,Sidi Ali</td>\n",
       "      <td>6111035000058</td>\n",
       "      <td>{'fruits-vegetables-legumes-estimate-from-ingr...</td>\n",
       "      <td>Eau minérale naturelle</td>\n",
       "    </tr>\n",
       "    <tr>\n",
       "      <th>4</th>\n",
       "      <td>AQUAFINA</td>\n",
       "      <td>6111252421568</td>\n",
       "      <td>{'alcohol': 0, 'alcohol_100g': 0, 'alcohol_ser...</td>\n",
       "      <td>اكوافينا</td>\n",
       "    </tr>\n",
       "    <tr>\n",
       "      <th>...</th>\n",
       "      <td>...</td>\n",
       "      <td>...</td>\n",
       "      <td>...</td>\n",
       "      <td>...</td>\n",
       "    </tr>\n",
       "    <tr>\n",
       "      <th>11995</th>\n",
       "      <td>sos</td>\n",
       "      <td>6111251753912</td>\n",
       "      <td>{'carbohydrates': 8.7, 'carbohydrates_100g': 8...</td>\n",
       "      <td>611251753912</td>\n",
       "    </tr>\n",
       "    <tr>\n",
       "      <th>11996</th>\n",
       "      <td>سلطان</td>\n",
       "      <td>6111248360130</td>\n",
       "      <td>{'bicarbonate': 0.402, 'bicarbonate_100g': 0.4...</td>\n",
       "      <td>Aïn Soltane</td>\n",
       "    </tr>\n",
       "    <tr>\n",
       "      <th>11997</th>\n",
       "      <td>8dh</td>\n",
       "      <td>6111003031107</td>\n",
       "      <td>{'carbohydrates': 0.6, 'carbohydrates_100g': 0...</td>\n",
       "      <td></td>\n",
       "    </tr>\n",
       "    <tr>\n",
       "      <th>11998</th>\n",
       "      <td>Bjorg</td>\n",
       "      <td>3229820100234</td>\n",
       "      <td>{'carbohydrates': 65, 'carbohydrates_100g': 65...</td>\n",
       "      <td>Fourrés Chocolat Noir</td>\n",
       "    </tr>\n",
       "    <tr>\n",
       "      <th>11999</th>\n",
       "      <td>El Baraka</td>\n",
       "      <td>6111184001074</td>\n",
       "      <td>{'carbohydrates': 63, 'carbohydrates_100g': 63...</td>\n",
       "      <td>Confiture De Fraises 430 G</td>\n",
       "    </tr>\n",
       "  </tbody>\n",
       "</table>\n",
       "<p>12000 rows × 4 columns</p>\n",
       "</div>"
      ],
      "text/plain": [
       "                                     brands           code  \\\n",
       "0                                  Sidi Ali  6111035000430   \n",
       "1                                    Jaouda  6111242100992   \n",
       "2                                  sidi ali  6111035002175   \n",
       "3      Les Eaux Minérales d'oulmès,Sidi Ali  6111035000058   \n",
       "4                                  AQUAFINA  6111252421568   \n",
       "...                                     ...            ...   \n",
       "11995                                   sos  6111251753912   \n",
       "11996                                 سلطان  6111248360130   \n",
       "11997                                   8dh  6111003031107   \n",
       "11998                                 Bjorg  3229820100234   \n",
       "11999                             El Baraka  6111184001074   \n",
       "\n",
       "                                              nutriments  \\\n",
       "0      {'carbohydrates': 42, 'carbohydrates_100g': 4....   \n",
       "1      {'calcium': 0.25, 'calcium_100g': 0.25, 'calci...   \n",
       "2      {'chloride': 0.014, 'chloride_100g': 0.014, 'c...   \n",
       "3      {'fruits-vegetables-legumes-estimate-from-ingr...   \n",
       "4      {'alcohol': 0, 'alcohol_100g': 0, 'alcohol_ser...   \n",
       "...                                                  ...   \n",
       "11995  {'carbohydrates': 8.7, 'carbohydrates_100g': 8...   \n",
       "11996  {'bicarbonate': 0.402, 'bicarbonate_100g': 0.4...   \n",
       "11997  {'carbohydrates': 0.6, 'carbohydrates_100g': 0...   \n",
       "11998  {'carbohydrates': 65, 'carbohydrates_100g': 65...   \n",
       "11999  {'carbohydrates': 63, 'carbohydrates_100g': 63...   \n",
       "\n",
       "                     product_name  \n",
       "0                        Sidi Ali  \n",
       "1                           Perly  \n",
       "2                        Sidi Ali  \n",
       "3          Eau minérale naturelle  \n",
       "4                        اكوافينا  \n",
       "...                           ...  \n",
       "11995                611251753912  \n",
       "11996                 Aïn Soltane  \n",
       "11997                              \n",
       "11998       Fourrés Chocolat Noir  \n",
       "11999  Confiture De Fraises 430 G  \n",
       "\n",
       "[12000 rows x 4 columns]"
      ]
     },
     "execution_count": 48,
     "metadata": {},
     "output_type": "execute_result"
    }
   ],
   "source": [
    "df = pd.DataFrame(all_data)\n",
    "df"
   ]
  },
  {
   "cell_type": "code",
   "execution_count": 49,
   "id": "3adec094-cf7b-4cab-8be9-6ab1a6f4eccf",
   "metadata": {},
   "outputs": [
    {
     "data": {
      "text/plain": [
       "brands          0\n",
       "code            0\n",
       "nutriments      0\n",
       "product_name    0\n",
       "dtype: int64"
      ]
     },
     "execution_count": 49,
     "metadata": {},
     "output_type": "execute_result"
    }
   ],
   "source": [
    "df.isnull().sum()"
   ]
  },
  {
   "cell_type": "code",
   "execution_count": 50,
   "id": "96b19ada-fa6f-4349-844e-c69945a55f01",
   "metadata": {},
   "outputs": [
    {
     "name": "stdout",
     "output_type": "stream",
     "text": [
      "Missing values per column:\n",
      " brands          0\n",
      "code            0\n",
      "nutriments      0\n",
      "product_name    0\n",
      "dtype: int64\n",
      "\n",
      "Total missing values in dataset: 0\n"
     ]
    }
   ],
   "source": [
    "# Count missing values per column\n",
    "print(\"Missing values per column:\\n\", df.isnull().sum())\n",
    "\n",
    "# Total missing values\n",
    "print(\"\\nTotal missing values in dataset:\", df.isnull().sum().sum())\n"
   ]
  },
  {
   "cell_type": "code",
   "execution_count": 51,
   "id": "44d11e5a-b1f8-47a8-826a-03430a9b66ba",
   "metadata": {},
   "outputs": [
    {
     "name": "stdout",
     "output_type": "stream",
     "text": [
      "Unique brands: ['sidi ali' 'jaouda' \"les eaux minérales d'oulmès,sidi ali\" 'aquafina'\n",
      " 'cristaline' 'milky food professional' 'danone' 'ain atlas'\n",
      " 'marmite,unilever' 'centrale danone' 'lilia' 'coca-cola' 'pepsi' 'lu'\n",
      " 'lindt&sprüngli' 'lindt' \"les eaux minérales d'oulmès s.a.\" 'ferrero'\n",
      " 'coca cola' 'bimo' 'unknown' 'gerblé' 'délicia'\n",
      " \"eau minérale naturelle des montagnes d'atlas\" 'gullón'\n",
      " 'eau minérale naturelle' 'star' 'jason’s' 'alpro' 'aïn saiss'\n",
      " 'j.d. gross' \"jason's\" 'alesto,lidl' 'la hollandaise' 'cosumar'\n",
      " 'alesto, 16 x lidl 10.25, lidl, lidl alesto, 14 x lidl 10.25' \"henry's\"\n",
      " 'salim' 'the coca-cola company' 'ciel' 'maruja' 'original' 'lurpak'\n",
      " 'bahia' 'oulmès' \"green & black's\" 'jibal' 'excelo' 'nestlé' 'aïn lfrane'\n",
      " 'solis' 'heinz' 'aïn atlas' 'alesto,alesto lidl,alesto selection,lidl'\n",
      " 'oatly' 'dost' 'la prairie' 'wasa' 'gervais' 'rigoni di asiago'\n",
      " 'bonne maman' \"tyrrell's\" 'weetabix' 'green and black' 'volvic' 'joly'\n",
      " 'primevère' 'sos' 'سلطان' '8dh' 'bjorg' 'el baraka']\n",
      "Total unique brands: 72\n"
     ]
    }
   ],
   "source": [
    "#Clean 'brands' Column\n",
    "# Remove extra spaces and lowercase all brands\n",
    "df['brands'] = df['brands'].str.strip().str.lower()\n",
    "\n",
    "# Replace empty strings or NaNs with 'unknown'\n",
    "df['brands'] = df['brands'].replace('', 'unknown')\n",
    "df['brands'] = df['brands'].fillna('unknown')\n",
    "\n",
    "# Check unique brands after cleaning\n",
    "print(\"Unique brands:\", df['brands'].unique())\n",
    "print(\"Total unique brands:\", df['brands'].nunique())\n"
   ]
  },
  {
   "cell_type": "code",
   "execution_count": 52,
   "id": "f659cb59-5c77-4529-ad48-9d2f7744c7fe",
   "metadata": {},
   "outputs": [],
   "source": [
    "#Clean 'product_name' Column\n",
    "# Strip spaces and fill missing with 'unknown'\n",
    "df['product_name'] = df['product_name'].str.strip()\n",
    "df['product_name'] = df['product_name'].replace('', 'unknown')\n",
    "df['product_name'] = df['product_name'].fillna('unknown')\n"
   ]
  },
  {
   "cell_type": "code",
   "execution_count": 53,
   "id": "e086a78d-859e-48fe-955b-c475c28f5b9a",
   "metadata": {},
   "outputs": [
    {
     "name": "stdout",
     "output_type": "stream",
     "text": [
      "Flattening column: nutriments\n"
     ]
    }
   ],
   "source": [
    "#Flatten dict/list columns (e.g., 'nutriments')\n",
    "for col in df.columns:\n",
    "    if df[col].apply(lambda x: isinstance(x, (dict, list))).any():\n",
    "        print(f\"Flattening column: {col}\")\n",
    "        expanded = pd.json_normalize(df[col])\n",
    "        expanded.columns = [f\"{col}_{sub}\" for sub in expanded.columns]\n",
    "        df = pd.concat([df.drop(columns=[col]), expanded], axis=1)\n"
   ]
  },
  {
   "cell_type": "code",
   "execution_count": 54,
   "id": "b9222358-17ab-4297-8223-3eb42648f263",
   "metadata": {},
   "outputs": [],
   "source": [
    "#Handle NaN values for numeric columns\n",
    "# Fill numeric columns with median\n",
    "numeric_cols = df.select_dtypes(include=[np.number]).columns\n",
    "df[numeric_cols] = df[numeric_cols].fillna(df[numeric_cols].median())\n"
   ]
  },
  {
   "cell_type": "code",
   "execution_count": 55,
   "id": "09c7d529-ba2a-44c2-b687-4796ff4cd079",
   "metadata": {},
   "outputs": [],
   "source": [
    "#Handle NaN values for categorical columns\n",
    "categorical_cols = df.select_dtypes(include=['object']).columns\n",
    "df[categorical_cols] = df[categorical_cols].fillna('unknown')\n"
   ]
  },
  {
   "cell_type": "code",
   "execution_count": 56,
   "id": "c12cc14c-8ba5-47dc-ae34-b8295ad33ca0",
   "metadata": {},
   "outputs": [
    {
     "name": "stdout",
     "output_type": "stream",
     "text": [
      "Number of duplicate rows: 11900\n"
     ]
    }
   ],
   "source": [
    "#Remove Duplicates\n",
    "duplicate_count = df.duplicated().sum()\n",
    "print(f\"Number of duplicate rows: {duplicate_count}\")\n",
    "\n",
    "df = df.drop_duplicates().reset_index(drop=True)\n"
   ]
  },
  {
   "cell_type": "code",
   "execution_count": 88,
   "id": "a972b24e-a6e5-4f0e-87a6-198107980323",
   "metadata": {},
   "outputs": [
    {
     "name": "stdout",
     "output_type": "stream",
     "text": [
      "brands                            0\n",
      "code                              0\n",
      "product_name                      0\n",
      "nutriments_carbohydrates          0\n",
      "nutriments_carbohydrates_100g     0\n",
      "                                 ..\n",
      "nutriments_omega-9-fat_label      0\n",
      "nutriments_omega-9-fat_unit       0\n",
      "nutriments_omega-9-fat_value      0\n",
      "nutriments_proteins_modifier      0\n",
      "calorie_category                 20\n",
      "Length: 389, dtype: int64\n"
     ]
    },
    {
     "data": {
      "text/html": [
       "<div>\n",
       "<style scoped>\n",
       "    .dataframe tbody tr th:only-of-type {\n",
       "        vertical-align: middle;\n",
       "    }\n",
       "\n",
       "    .dataframe tbody tr th {\n",
       "        vertical-align: top;\n",
       "    }\n",
       "\n",
       "    .dataframe thead th {\n",
       "        text-align: right;\n",
       "    }\n",
       "</style>\n",
       "<table border=\"1\" class=\"dataframe\">\n",
       "  <thead>\n",
       "    <tr style=\"text-align: right;\">\n",
       "      <th></th>\n",
       "      <th>brands</th>\n",
       "      <th>code</th>\n",
       "      <th>product_name</th>\n",
       "      <th>nutriments_carbohydrates</th>\n",
       "      <th>nutriments_carbohydrates_100g</th>\n",
       "      <th>nutriments_carbohydrates_serving</th>\n",
       "      <th>nutriments_carbohydrates_unit</th>\n",
       "      <th>nutriments_carbohydrates_value</th>\n",
       "      <th>nutriments_energy</th>\n",
       "      <th>nutriments_energy-kcal</th>\n",
       "      <th>...</th>\n",
       "      <th>nutriments_omega-6-fat_label</th>\n",
       "      <th>nutriments_omega-6-fat_unit</th>\n",
       "      <th>nutriments_omega-6-fat_value</th>\n",
       "      <th>nutriments_omega-9-fat</th>\n",
       "      <th>nutriments_omega-9-fat_100g</th>\n",
       "      <th>nutriments_omega-9-fat_label</th>\n",
       "      <th>nutriments_omega-9-fat_unit</th>\n",
       "      <th>nutriments_omega-9-fat_value</th>\n",
       "      <th>nutriments_proteins_modifier</th>\n",
       "      <th>calorie_category</th>\n",
       "    </tr>\n",
       "  </thead>\n",
       "  <tbody>\n",
       "    <tr>\n",
       "      <th>0</th>\n",
       "      <td>sidi ali</td>\n",
       "      <td>6111035000430</td>\n",
       "      <td>Sidi Ali</td>\n",
       "      <td>42.00</td>\n",
       "      <td>4.20</td>\n",
       "      <td>42.0</td>\n",
       "      <td>g</td>\n",
       "      <td>42.00</td>\n",
       "      <td>20.0</td>\n",
       "      <td>0.0</td>\n",
       "      <td>...</td>\n",
       "      <td>unknown</td>\n",
       "      <td>unknown</td>\n",
       "      <td>8.0</td>\n",
       "      <td>27.0</td>\n",
       "      <td>27.0</td>\n",
       "      <td>unknown</td>\n",
       "      <td>unknown</td>\n",
       "      <td>27.0</td>\n",
       "      <td>unknown</td>\n",
       "      <td>NaN</td>\n",
       "    </tr>\n",
       "    <tr>\n",
       "      <th>1</th>\n",
       "      <td>jaouda</td>\n",
       "      <td>6111242100992</td>\n",
       "      <td>Perly</td>\n",
       "      <td>9.40</td>\n",
       "      <td>9.40</td>\n",
       "      <td>9.4</td>\n",
       "      <td>g</td>\n",
       "      <td>9.40</td>\n",
       "      <td>406.0</td>\n",
       "      <td>97.0</td>\n",
       "      <td>...</td>\n",
       "      <td>unknown</td>\n",
       "      <td>unknown</td>\n",
       "      <td>8.0</td>\n",
       "      <td>27.0</td>\n",
       "      <td>27.0</td>\n",
       "      <td>unknown</td>\n",
       "      <td>unknown</td>\n",
       "      <td>27.0</td>\n",
       "      <td>unknown</td>\n",
       "      <td>0-100</td>\n",
       "    </tr>\n",
       "    <tr>\n",
       "      <th>2</th>\n",
       "      <td>sidi ali</td>\n",
       "      <td>6111035002175</td>\n",
       "      <td>Sidi Ali</td>\n",
       "      <td>6.75</td>\n",
       "      <td>6.75</td>\n",
       "      <td>5.3</td>\n",
       "      <td>unknown</td>\n",
       "      <td>6.75</td>\n",
       "      <td>487.0</td>\n",
       "      <td>116.0</td>\n",
       "      <td>...</td>\n",
       "      <td>unknown</td>\n",
       "      <td>unknown</td>\n",
       "      <td>8.0</td>\n",
       "      <td>27.0</td>\n",
       "      <td>27.0</td>\n",
       "      <td>unknown</td>\n",
       "      <td>unknown</td>\n",
       "      <td>27.0</td>\n",
       "      <td>unknown</td>\n",
       "      <td>101-200</td>\n",
       "    </tr>\n",
       "    <tr>\n",
       "      <th>3</th>\n",
       "      <td>les eaux minérales d'oulmès,sidi ali</td>\n",
       "      <td>6111035000058</td>\n",
       "      <td>Eau minérale naturelle</td>\n",
       "      <td>6.75</td>\n",
       "      <td>6.75</td>\n",
       "      <td>5.3</td>\n",
       "      <td>unknown</td>\n",
       "      <td>6.75</td>\n",
       "      <td>487.0</td>\n",
       "      <td>116.0</td>\n",
       "      <td>...</td>\n",
       "      <td>unknown</td>\n",
       "      <td>unknown</td>\n",
       "      <td>8.0</td>\n",
       "      <td>27.0</td>\n",
       "      <td>27.0</td>\n",
       "      <td>unknown</td>\n",
       "      <td>unknown</td>\n",
       "      <td>27.0</td>\n",
       "      <td>unknown</td>\n",
       "      <td>101-200</td>\n",
       "    </tr>\n",
       "    <tr>\n",
       "      <th>4</th>\n",
       "      <td>aquafina</td>\n",
       "      <td>6111252421568</td>\n",
       "      <td>اكوافينا</td>\n",
       "      <td>0.00</td>\n",
       "      <td>0.00</td>\n",
       "      <td>0.0</td>\n",
       "      <td>g</td>\n",
       "      <td>0.00</td>\n",
       "      <td>0.0</td>\n",
       "      <td>0.0</td>\n",
       "      <td>...</td>\n",
       "      <td>unknown</td>\n",
       "      <td>unknown</td>\n",
       "      <td>8.0</td>\n",
       "      <td>27.0</td>\n",
       "      <td>27.0</td>\n",
       "      <td>unknown</td>\n",
       "      <td>unknown</td>\n",
       "      <td>27.0</td>\n",
       "      <td>unknown</td>\n",
       "      <td>NaN</td>\n",
       "    </tr>\n",
       "  </tbody>\n",
       "</table>\n",
       "<p>5 rows × 389 columns</p>\n",
       "</div>"
      ],
      "text/plain": [
       "                                 brands           code  \\\n",
       "0                              sidi ali  6111035000430   \n",
       "1                                jaouda  6111242100992   \n",
       "2                              sidi ali  6111035002175   \n",
       "3  les eaux minérales d'oulmès,sidi ali  6111035000058   \n",
       "4                              aquafina  6111252421568   \n",
       "\n",
       "             product_name  nutriments_carbohydrates  \\\n",
       "0                Sidi Ali                     42.00   \n",
       "1                   Perly                      9.40   \n",
       "2                Sidi Ali                      6.75   \n",
       "3  Eau minérale naturelle                      6.75   \n",
       "4                اكوافينا                      0.00   \n",
       "\n",
       "   nutriments_carbohydrates_100g  nutriments_carbohydrates_serving  \\\n",
       "0                           4.20                              42.0   \n",
       "1                           9.40                               9.4   \n",
       "2                           6.75                               5.3   \n",
       "3                           6.75                               5.3   \n",
       "4                           0.00                               0.0   \n",
       "\n",
       "  nutriments_carbohydrates_unit  nutriments_carbohydrates_value  \\\n",
       "0                             g                           42.00   \n",
       "1                             g                            9.40   \n",
       "2                       unknown                            6.75   \n",
       "3                       unknown                            6.75   \n",
       "4                             g                            0.00   \n",
       "\n",
       "   nutriments_energy  nutriments_energy-kcal  ...  \\\n",
       "0               20.0                     0.0  ...   \n",
       "1              406.0                    97.0  ...   \n",
       "2              487.0                   116.0  ...   \n",
       "3              487.0                   116.0  ...   \n",
       "4                0.0                     0.0  ...   \n",
       "\n",
       "   nutriments_omega-6-fat_label  nutriments_omega-6-fat_unit  \\\n",
       "0                       unknown                      unknown   \n",
       "1                       unknown                      unknown   \n",
       "2                       unknown                      unknown   \n",
       "3                       unknown                      unknown   \n",
       "4                       unknown                      unknown   \n",
       "\n",
       "  nutriments_omega-6-fat_value  nutriments_omega-9-fat  \\\n",
       "0                          8.0                    27.0   \n",
       "1                          8.0                    27.0   \n",
       "2                          8.0                    27.0   \n",
       "3                          8.0                    27.0   \n",
       "4                          8.0                    27.0   \n",
       "\n",
       "   nutriments_omega-9-fat_100g  nutriments_omega-9-fat_label  \\\n",
       "0                         27.0                       unknown   \n",
       "1                         27.0                       unknown   \n",
       "2                         27.0                       unknown   \n",
       "3                         27.0                       unknown   \n",
       "4                         27.0                       unknown   \n",
       "\n",
       "   nutriments_omega-9-fat_unit  nutriments_omega-9-fat_value  \\\n",
       "0                      unknown                          27.0   \n",
       "1                      unknown                          27.0   \n",
       "2                      unknown                          27.0   \n",
       "3                      unknown                          27.0   \n",
       "4                      unknown                          27.0   \n",
       "\n",
       "  nutriments_proteins_modifier  calorie_category  \n",
       "0                      unknown               NaN  \n",
       "1                      unknown             0-100  \n",
       "2                      unknown           101-200  \n",
       "3                      unknown           101-200  \n",
       "4                      unknown               NaN  \n",
       "\n",
       "[5 rows x 389 columns]"
      ]
     },
     "execution_count": 88,
     "metadata": {},
     "output_type": "execute_result"
    }
   ],
   "source": [
    "#Verify Cleaned Dataset\n",
    "# Check missing values\n",
    "print(df.isnull().sum())\n",
    "\n",
    "# Quick peek at data\n",
    "df.head()\n"
   ]
  },
  {
   "cell_type": "code",
   "execution_count": 89,
   "id": "b53a2d5d-853c-490f-8d60-41931d931879",
   "metadata": {},
   "outputs": [
    {
     "data": {
      "text/plain": [
       "Index(['brands', 'code', 'product_name', 'nutriments_carbohydrates',\n",
       "       'nutriments_carbohydrates_100g', 'nutriments_carbohydrates_serving',\n",
       "       'nutriments_carbohydrates_unit', 'nutriments_carbohydrates_value',\n",
       "       'nutriments_energy', 'nutriments_energy-kcal',\n",
       "       ...\n",
       "       'nutriments_omega-6-fat_label', 'nutriments_omega-6-fat_unit',\n",
       "       'nutriments_omega-6-fat_value', 'nutriments_omega-9-fat',\n",
       "       'nutriments_omega-9-fat_100g', 'nutriments_omega-9-fat_label',\n",
       "       'nutriments_omega-9-fat_unit', 'nutriments_omega-9-fat_value',\n",
       "       'nutriments_proteins_modifier', 'calorie_category'],\n",
       "      dtype='object', length=389)"
      ]
     },
     "execution_count": 89,
     "metadata": {},
     "output_type": "execute_result"
    }
   ],
   "source": [
    "df.columns"
   ]
  },
  {
   "cell_type": "code",
   "execution_count": 90,
   "id": "bb95cd7e-fa08-443c-a474-e55a1c120a8e",
   "metadata": {},
   "outputs": [
    {
     "data": {
      "text/plain": [
       "<Axes: xlabel='calorie_category', ylabel='count'>"
      ]
     },
     "execution_count": 90,
     "metadata": {},
     "output_type": "execute_result"
    },
    {
     "data": {
      "image/png": "[encoded data removed]",
      "text/plain": [
       "<Figure size 640x480 with 1 Axes>"
      ]
     },
     "metadata": {},
     "output_type": "display_data"
    }
   ],
   "source": [
    "sns.countplot(\n",
    "    data=df.dropna(subset=['calorie_category']), \n",
    "    x='calorie_category', \n",
    "    color='skyblue'  # replace palette with a single color\n",
    ")"
   ]
  },
  {
   "cell_type": "code",
   "execution_count": 91,
   "id": "318d0ecc-8022-4a06-be87-a35919440352",
   "metadata": {},
   "outputs": [
    {
     "name": "stdout",
     "output_type": "stream",
     "text": [
      "20\n"
     ]
    },
    {
     "name": "stderr",
     "output_type": "stream",
     "text": [
      "/var/folders/1d/bgyh7yvj5ggfr7rjr7vlckp40000gp/T/ipykernel_1069/2932283064.py:13: FutureWarning: \n",
      "\n",
      "Passing `palette` without assigning `hue` is deprecated and will be removed in v0.14.0. Assign the `x` variable to `hue` and set `legend=False` for the same effect.\n",
      "\n",
      "  sns.countplot(data=df.dropna(subset=['calorie_category']), x='calorie_category', palette='Blues')\n"
     ]
    },
    {
     "data": {
      "image/png": "[encoded data removed]",
      "text/plain": [
       "<Figure size 800x400 with 1 Axes>"
      ]
     },
     "metadata": {},
     "output_type": "display_data"
    }
   ],
   "source": [
    "\n",
    "# Example: create calorie categories\n",
    "df['calorie_category'] = pd.cut(\n",
    "    df['nutriments_energy-kcal'],  # or 'nutriments_energy-kcal_value'\n",
    "    bins=[0, 100, 200, 300, 400, 1000],\n",
    "    labels=['0-100','101-200','201-300','301-400','400+']\n",
    ")\n",
    "\n",
    "# Optional: check for missing values\n",
    "print(df['calorie_category'].isnull().sum())\n",
    "\n",
    "# Plot\n",
    "plt.figure(figsize=(8,4))\n",
    "sns.countplot(data=df.dropna(subset=['calorie_category']), x='calorie_category', palette='Blues')\n",
    "plt.title('Number of Products per Calorie Category')\n",
    "plt.show()"
   ]
  },
  {
   "cell_type": "code",
   "execution_count": 125,
   "id": "16d65dde-ab2a-4d69-9d36-43c780ab2162",
   "metadata": {},
   "outputs": [
    {
     "data": {
      "text/html": [
       "<div>\n",
       "<style scoped>\n",
       "    .dataframe tbody tr th:only-of-type {\n",
       "        vertical-align: middle;\n",
       "    }\n",
       "\n",
       "    .dataframe tbody tr th {\n",
       "        vertical-align: top;\n",
       "    }\n",
       "\n",
       "    .dataframe thead th {\n",
       "        text-align: right;\n",
       "    }\n",
       "</style>\n",
       "<table border=\"1\" class=\"dataframe\">\n",
       "  <thead>\n",
       "    <tr style=\"text-align: right;\">\n",
       "      <th></th>\n",
       "      <th>sugar_to_carb_ratio</th>\n",
       "      <th>calorie_category</th>\n",
       "      <th>sugar_category</th>\n",
       "      <th>is_ultra_processed</th>\n",
       "    </tr>\n",
       "  </thead>\n",
       "  <tbody>\n",
       "    <tr>\n",
       "      <th>0</th>\n",
       "      <td>0.333333</td>\n",
       "      <td>Low</td>\n",
       "      <td>Low</td>\n",
       "      <td>Yes</td>\n",
       "    </tr>\n",
       "    <tr>\n",
       "      <th>1</th>\n",
       "      <td>0.138298</td>\n",
       "      <td>Low</td>\n",
       "      <td>Low</td>\n",
       "      <td>Yes</td>\n",
       "    </tr>\n",
       "    <tr>\n",
       "      <th>2</th>\n",
       "      <td>0.192593</td>\n",
       "      <td>Medium</td>\n",
       "      <td>Low</td>\n",
       "      <td>Yes</td>\n",
       "    </tr>\n",
       "    <tr>\n",
       "      <th>3</th>\n",
       "      <td>0.192593</td>\n",
       "      <td>Medium</td>\n",
       "      <td>Low</td>\n",
       "      <td>No</td>\n",
       "    </tr>\n",
       "    <tr>\n",
       "      <th>4</th>\n",
       "      <td>0.000000</td>\n",
       "      <td>Low</td>\n",
       "      <td>Low</td>\n",
       "      <td>Yes</td>\n",
       "    </tr>\n",
       "  </tbody>\n",
       "</table>\n",
       "</div>"
      ],
      "text/plain": [
       "   sugar_to_carb_ratio calorie_category sugar_category is_ultra_processed\n",
       "0             0.333333              Low            Low                Yes\n",
       "1             0.138298              Low            Low                Yes\n",
       "2             0.192593           Medium            Low                Yes\n",
       "3             0.192593           Medium            Low                 No\n",
       "4             0.000000              Low            Low                Yes"
      ]
     },
     "execution_count": 125,
     "metadata": {},
     "output_type": "execute_result"
    }
   ],
   "source": [
    "import numpy as np\n",
    "\n",
    "# 1️⃣ Sugar-to-Carb Ratio\n",
    "df['sugar_to_carb_ratio'] = df['nutriments_sugars_100g'] / df['nutriments_carbohydrates_100g']\n",
    "df['sugar_to_carb_ratio'] = df['sugar_to_carb_ratio'].replace([np.inf, -np.inf], 0).fillna(0)\n",
    "\n",
    "# 2️⃣ Calorie Category\n",
    "def calorie_category(kcal):\n",
    "    if pd.isna(kcal):\n",
    "        return 'Unknown'\n",
    "    elif kcal < 150:\n",
    "        return 'Low'\n",
    "    elif kcal < 300:\n",
    "        return 'Medium'\n",
    "    else:\n",
    "        return 'High'\n",
    "\n",
    "df['calorie_category'] = df['nutriments_energy-kcal_100g'].apply(calorie_category)\n",
    "\n",
    "# 3️⃣ Sugar Category\n",
    "def sugar_category(sugar):\n",
    "    if pd.isna(sugar):\n",
    "        return 'Unknown'\n",
    "    elif sugar < 5:\n",
    "        return 'Low'\n",
    "    elif sugar < 15:\n",
    "        return 'Medium'\n",
    "    else:\n",
    "        return 'High'\n",
    "\n",
    "df['sugar_category'] = df['nutriments_sugars_100g'].apply(sugar_category)\n",
    "\n",
    "# 4️⃣ Ultra-processed Flag based on NOVA group\n",
    "def ultra_processed(nova):\n",
    "    if pd.isna(nova):\n",
    "        return 'Unknown'\n",
    "    elif nova >= 3:\n",
    "        return 'Yes'\n",
    "    else:\n",
    "        return 'No'\n",
    "\n",
    "df['is_ultra_processed'] = df['nutriments_nova-group'].apply(ultra_processed)\n",
    "\n",
    "# Verify new columns\n",
    "df[['sugar_to_carb_ratio', 'calorie_category', 'sugar_category', 'is_ultra_processed']].head()"
   ]
  },
  {
   "cell_type": "code",
   "execution_count": 123,
   "id": "3493e124-3901-4147-b436-2028316e288b",
   "metadata": {},
   "outputs": [],
   "source": [
    "#What this does:\n",
    "\n",
    "#sugar_to_carb_ratio → shows proportion of sugar to total carbs\n",
    "\n",
    "#calorie_category → Low / Medium / High based on kcal\n",
    "\n",
    "#sugar_category → Low / Medium / High based on sugar content\n",
    "\n",
    "#is_ultra_processed → Yes/No based on NOVA group"
   ]
  },
  {
   "cell_type": "code",
   "execution_count": 126,
   "id": "1376b2f5-9d00-43d2-bec3-212fcbc651e1",
   "metadata": {},
   "outputs": [
    {
     "data": {
      "image/png": "[encoded data removed]",
      "text/plain": [
       "<Figure size 600x400 with 1 Axes>"
      ]
     },
     "metadata": {},
     "output_type": "display_data"
    }
   ],
   "source": [
    "# Create sugar category column\n",
    "df1['sugar_category'] = pd.cut(\n",
    "    df1['nutriments_sugars_value'], \n",
    "    bins=[0, 5, 10, 15, 20, 100], \n",
    "    labels=['0-5g','6-10g','11-15g','16-20g','20+g']\n",
    ")\n",
    "\n",
    "# Plot\n",
    "plt.figure(figsize=(6,4))\n",
    "sns.countplot(data=df1.dropna(subset=['sugar_category']), x='sugar_category', color='orange')\n",
    "plt.title('Number of Products per Sugar Category')\n",
    "plt.show()"
   ]
  },
  {
   "cell_type": "code",
   "execution_count": 127,
   "id": "a41c3e49-4e0f-475a-b87b-68df3746c9c5",
   "metadata": {},
   "outputs": [
    {
     "data": {
      "image/png": "[encoded data removed]",
      "text/plain": [
       "<Figure size 600x400 with 1 Axes>"
      ]
     },
     "metadata": {},
     "output_type": "display_data"
    }
   ],
   "source": [
    "#Bar Charts for Calorie and Sugar Categories\n",
    "# Calorie Category Count\n",
    "plt.figure(figsize=(6,4))\n",
    "sns.countplot(\n",
    "    data=df,\n",
    "    x='calorie_category',\n",
    "    hue='calorie_category',  # assign x to hue\n",
    "    palette='Blues',\n",
    "    legend=False            # removes redundant legend\n",
    ")\n",
    "plt.title('Number of Products per Calorie Category')\n",
    "plt.show()\n",
    "\n"
   ]
  },
  {
   "cell_type": "code",
   "execution_count": 130,
   "id": "0b45813a-7ca9-412a-8aad-6d6753078174",
   "metadata": {},
   "outputs": [
    {
     "name": "stdout",
     "output_type": "stream",
     "text": [
      "Index(['brands', 'code', 'product_name', 'nutriments_carbohydrates',\n",
      "       'nutriments_carbohydrates_100g', 'nutriments_carbohydrates_serving',\n",
      "       'nutriments_carbohydrates_unit', 'nutriments_carbohydrates_value',\n",
      "       'nutriments_energy', 'nutriments_energy-kcal',\n",
      "       ...\n",
      "       'nutriments_omega-9-fat', 'nutriments_omega-9-fat_100g',\n",
      "       'nutriments_omega-9-fat_label', 'nutriments_omega-9-fat_unit',\n",
      "       'nutriments_omega-9-fat_value', 'nutriments_proteins_modifier',\n",
      "       'sugar_to_carb_ratio', 'calorie_category', 'sugar_category',\n",
      "       'is_ultra_processed'],\n",
      "      dtype='object', length=388)\n"
     ]
    },
    {
     "data": {
      "image/png": "[encoded data removed]",
      "text/plain": [
       "<Figure size 600x600 with 1 Axes>"
      ]
     },
     "metadata": {},
     "output_type": "display_data"
    }
   ],
   "source": [
    "import matplotlib.pyplot as plt\n",
    "import seaborn as sns\n",
    "\n",
    "# Check column names\n",
    "print(df.columns)  # make sure the NOVA group column exists\n",
    "\n",
    "# Use the correct column name\n",
    "nova_counts = df['nutriments_nova-group'].value_counts()\n",
    "\n",
    "plt.figure(figsize=(6,6))\n",
    "plt.pie(\n",
    "    nova_counts, \n",
    "    labels=nova_counts.index, \n",
    "    autopct='%1.1f%%', \n",
    "    startangle=140, \n",
    "    colors=sns.color_palette('pastel')\n",
    ")\n",
    "plt.title('Proportion of Products by NOVA Group')\n",
    "plt.show()"
   ]
  },
  {
   "cell_type": "code",
   "execution_count": 116,
   "id": "b7ca43d6-e3b5-41fb-bc61-0e4691a15ecb",
   "metadata": {},
   "outputs": [
    {
     "name": "stdout",
     "output_type": "stream",
     "text": [
      "['brands', 'code', 'product_name', 'nutriments_carbohydrates', 'nutriments_carbohydrates_100g', 'nutriments_carbohydrates_serving', 'nutriments_carbohydrates_unit', 'nutriments_carbohydrates_value', 'nutriments_energy', 'nutriments_energy-kcal', 'nutriments_energy-kcal_100g', 'nutriments_energy-kcal_serving', 'nutriments_energy-kcal_unit', 'nutriments_energy-kcal_value', 'nutriments_energy-kcal_value_computed', 'nutriments_energy-kj', 'nutriments_energy-kj_100g', 'nutriments_energy-kj_serving', 'nutriments_energy-kj_unit', 'nutriments_energy-kj_value', 'nutriments_energy-kj_value_computed', 'nutriments_energy_100g', 'nutriments_energy_serving', 'nutriments_energy_unit', 'nutriments_energy_value', 'nutriments_fat', 'nutriments_fat_100g', 'nutriments_fat_serving', 'nutriments_fat_unit', 'nutriments_fat_value', 'nutriments_fiber', 'nutriments_fiber_100g', 'nutriments_fiber_serving', 'nutriments_fiber_unit', 'nutriments_fiber_value', 'nutriments_fruits-vegetables-legumes-estimate-from-ingredients_100g', 'nutriments_fruits-vegetables-legumes-estimate-from-ingredients_serving', 'nutriments_fruits-vegetables-nuts-estimate-from-ingredients_100g', 'nutriments_fruits-vegetables-nuts-estimate-from-ingredients_serving', 'nutriments_nutrition-score-fr', 'nutriments_nutrition-score-fr_100g', 'nutriments_proteins', 'nutriments_proteins_100g', 'nutriments_proteins_serving', 'nutriments_proteins_unit', 'nutriments_proteins_value', 'nutriments_salt', 'nutriments_salt_100g', 'nutriments_salt_serving', 'nutriments_salt_unit', 'nutriments_salt_value', 'nutriments_saturated-fat', 'nutriments_saturated-fat_100g', 'nutriments_saturated-fat_serving', 'nutriments_saturated-fat_unit', 'nutriments_saturated-fat_value', 'nutriments_sodium', 'nutriments_sodium_100g', 'nutriments_sodium_serving', 'nutriments_sodium_unit', 'nutriments_sodium_value', 'nutriments_sugars', 'nutriments_sugars_100g', 'nutriments_sugars_serving', 'nutriments_sugars_unit', 'nutriments_sugars_value', 'nutriments_calcium', 'nutriments_calcium_100g', 'nutriments_calcium_label', 'nutriments_calcium_serving', 'nutriments_calcium_unit', 'nutriments_calcium_value', 'nutriments_fat_label', 'nutriments_nova-group', 'nutriments_nova-group_100g', 'nutriments_nova-group_serving', 'nutriments_chloride', 'nutriments_chloride_100g', 'nutriments_chloride_unit', 'nutriments_chloride_value', 'nutriments_magnesium', 'nutriments_magnesium_100g', 'nutriments_magnesium_unit', 'nutriments_magnesium_value', 'nutriments_potassium', 'nutriments_potassium_100g', 'nutriments_potassium_unit', 'nutriments_potassium_value', 'nutriments_alcohol', 'nutriments_alcohol_100g', 'nutriments_alcohol_serving', 'nutriments_alcohol_unit', 'nutriments_alcohol_value', 'nutriments_bicarbonate', 'nutriments_bicarbonate_100g', 'nutriments_bicarbonate_serving', 'nutriments_bicarbonate_unit', 'nutriments_bicarbonate_value', 'nutriments_fluoride', 'nutriments_fluoride_100g', 'nutriments_fluoride_serving', 'nutriments_fluoride_unit', 'nutriments_fluoride_value', 'nutriments_iron', 'nutriments_iron_100g', 'nutriments_iron_serving', 'nutriments_iron_unit', 'nutriments_iron_value', 'nutriments_magnesium_serving', 'nutriments_ph', 'nutriments_ph_100g', 'nutriments_ph_modifier', 'nutriments_ph_serving', 'nutriments_ph_unit', 'nutriments_ph_value', 'nutriments_potassium_serving', 'nutriments_fiber_modifier', 'nutriments_alpha-linolenic-acid', 'nutriments_alpha-linolenic-acid_100g', 'nutriments_alpha-linolenic-acid_serving', 'nutriments_alpha-linolenic-acid_unit', 'nutriments_alpha-linolenic-acid_value', 'nutriments_arachidic-acid', 'nutriments_arachidic-acid_100g', 'nutriments_arachidic-acid_serving', 'nutriments_arachidic-acid_unit', 'nutriments_arachidic-acid_value', 'nutriments_arachidonic-acid', 'nutriments_arachidonic-acid_100g', 'nutriments_arachidonic-acid_serving', 'nutriments_arachidonic-acid_unit', 'nutriments_arachidonic-acid_value', 'nutriments_behenic-acid', 'nutriments_behenic-acid_100g', 'nutriments_behenic-acid_serving', 'nutriments_behenic-acid_unit', 'nutriments_behenic-acid_value', 'nutriments_bicarbonate_label', 'nutriments_biotin', 'nutriments_biotin_100g', 'nutriments_biotin_serving', 'nutriments_biotin_unit', 'nutriments_biotin_value', 'nutriments_butyric-acid', 'nutriments_butyric-acid_100g', 'nutriments_butyric-acid_serving', 'nutriments_butyric-acid_unit', 'nutriments_butyric-acid_value', 'nutriments_carbon-footprint-from-known-ingredients_product', 'nutriments_chloride_label', 'nutriments_chloride_serving', 'nutriments_fluoride_label', 'nutriments_magnesium_label', 'nutriments_nitrate', 'nutriments_nitrate_100g', 'nutriments_nitrate_label', 'nutriments_nitrate_modifier', 'nutriments_nitrate_serving', 'nutriments_nitrate_unit', 'nutriments_nitrate_value', 'nutriments_potassium_label', 'nutriments_silica', 'nutriments_silica_100g', 'nutriments_silica_label', 'nutriments_silica_serving', 'nutriments_silica_unit', 'nutriments_silica_value', 'nutriments_sulphate', 'nutriments_sulphate_100g', 'nutriments_sulphate_label', 'nutriments_sulphate_serving', 'nutriments_sulphate_unit', 'nutriments_sulphate_value', 'nutriments_fat_modifier', 'nutriments_saturated-fat_modifier', 'nutriments_vitamin-b1', 'nutriments_vitamin-b12', 'nutriments_vitamin-b12_100g', 'nutriments_vitamin-b12_label', 'nutriments_vitamin-b12_serving', 'nutriments_vitamin-b12_unit', 'nutriments_vitamin-b12_value', 'nutriments_vitamin-b1_100g', 'nutriments_vitamin-b1_label', 'nutriments_vitamin-b1_serving', 'nutriments_vitamin-b1_unit', 'nutriments_vitamin-b1_value', 'nutriments_vitamin-b2', 'nutriments_vitamin-b2_100g', 'nutriments_vitamin-b2_label', 'nutriments_vitamin-b2_serving', 'nutriments_vitamin-b2_unit', 'nutriments_vitamin-b2_value', 'nutriments_vitamin-b9', 'nutriments_vitamin-b9_100g', 'nutriments_vitamin-b9_label', 'nutriments_vitamin-b9_serving', 'nutriments_vitamin-b9_unit', 'nutriments_vitamin-b9_value', 'nutriments_vitamin-pp', 'nutriments_vitamin-pp_100g', 'nutriments_vitamin-pp_label', 'nutriments_vitamin-pp_serving', 'nutriments_vitamin-pp_unit', 'nutriments_vitamin-pp_value', 'nutriments_carbohydrates_prepared_unit', 'nutriments_carbon-footprint-from-known-ingredients_100g', 'nutriments_carbon-footprint-from-known-ingredients_serving', 'nutriments_energy-kcal_prepared_unit', 'nutriments_energy-kj_prepared_unit', 'nutriments_energy_prepared_unit', 'nutriments_fat_prepared_unit', 'nutriments_fiber_prepared_unit', 'nutriments_proteins_prepared_unit', 'nutriments_salt_prepared_unit', 'nutriments_saturated-fat_prepared_unit', 'nutriments_sodium_prepared_unit', 'nutriments_sugars_prepared_unit', 'nutriments_choline', 'nutriments_choline_100g', 'nutriments_choline_serving', 'nutriments_choline_unit', 'nutriments_choline_value', 'nutriments_cocoa', 'nutriments_cocoa_100g', 'nutriments_cocoa_label', 'nutriments_cocoa_serving', 'nutriments_cocoa_unit', 'nutriments_cocoa_value', 'nutriments_starch', 'nutriments_starch_100g', 'nutriments_starch_serving', 'nutriments_starch_unit', 'nutriments_starch_value', 'nutriments_fruits-vegetables-nuts-estimate', 'nutriments_fruits-vegetables-nuts-estimate_100g', 'nutriments_fruits-vegetables-nuts-estimate_label', 'nutriments_fruits-vegetables-nuts-estimate_serving', 'nutriments_fruits-vegetables-nuts-estimate_unit', 'nutriments_fruits-vegetables-nuts-estimate_value', 'nutriments_fruits-vegetables-nuts', 'nutriments_fruits-vegetables-nuts_100g', 'nutriments_fruits-vegetables-nuts_serving', 'nutriments_fruits-vegetables-nuts_unit', 'nutriments_fruits-vegetables-nuts_value', 'nutriments_vitamin-b6', 'nutriments_vitamin-b6_100g', 'nutriments_vitamin-b6_label', 'nutriments_vitamin-b6_serving', 'nutriments_vitamin-b6_unit', 'nutriments_vitamin-b6_value', 'nutriments_vitamin-e', 'nutriments_vitamin-e_100g', 'nutriments_vitamin-e_label', 'nutriments_vitamin-e_serving', 'nutriments_vitamin-e_unit', 'nutriments_vitamin-e_value', 'nutriments_phosphorus', 'nutriments_phosphorus_100g', 'nutriments_phosphorus_label', 'nutriments_phosphorus_unit', 'nutriments_phosphorus_value', 'nutriments_monounsaturated-fat', 'nutriments_monounsaturated-fat_100g', 'nutriments_monounsaturated-fat_label', 'nutriments_monounsaturated-fat_serving', 'nutriments_monounsaturated-fat_unit', 'nutriments_monounsaturated-fat_value', 'nutriments_oleic-acid', 'nutriments_oleic-acid_100g', 'nutriments_oleic-acid_serving', 'nutriments_oleic-acid_unit', 'nutriments_oleic-acid_value', 'nutriments_polyunsaturated-fat', 'nutriments_polyunsaturated-fat_100g', 'nutriments_polyunsaturated-fat_label', 'nutriments_polyunsaturated-fat_serving', 'nutriments_polyunsaturated-fat_unit', 'nutriments_polyunsaturated-fat_value', 'nutriments_sugars_modifier', 'nutriments_vitamin-d', 'nutriments_vitamin-d_100g', 'nutriments_vitamin-d_label', 'nutriments_vitamin-d_serving', 'nutriments_vitamin-d_unit', 'nutriments_vitamin-d_value', 'nutriments_added-sugars', 'nutriments_added-sugars_100g', 'nutriments_added-sugars_serving', 'nutriments_added-sugars_unit', 'nutriments_added-sugars_value', 'nutriments_caffeine', 'nutriments_caffeine_100g', 'nutriments_caffeine_serving', 'nutriments_caffeine_unit', 'nutriments_caffeine_value', 'nutriments_copper', 'nutriments_copper_100g', 'nutriments_copper_serving', 'nutriments_copper_unit', 'nutriments_copper_value', 'nutriments_manganese', 'nutriments_manganese_100g', 'nutriments_manganese_serving', 'nutriments_manganese_unit', 'nutriments_manganese_value', 'nutriments_phosphorus_serving', 'nutriments_selenium', 'nutriments_selenium_100g', 'nutriments_selenium_serving', 'nutriments_selenium_unit', 'nutriments_selenium_value', 'nutriments_vitamin-a', 'nutriments_vitamin-a_100g', 'nutriments_vitamin-a_serving', 'nutriments_vitamin-a_unit', 'nutriments_vitamin-a_value', 'nutriments_vitamin-c', 'nutriments_vitamin-c_100g', 'nutriments_vitamin-c_serving', 'nutriments_vitamin-c_unit', 'nutriments_vitamin-c_value', 'nutriments_vitamin-k', 'nutriments_vitamin-k_100g', 'nutriments_vitamin-k_serving', 'nutriments_vitamin-k_unit', 'nutriments_vitamin-k_value', 'nutriments_zinc', 'nutriments_zinc_100g', 'nutriments_zinc_serving', 'nutriments_zinc_unit', 'nutriments_zinc_value', 'nutriments_omega-3-fat', 'nutriments_omega-3-fat_100g', 'nutriments_omega-3-fat_serving', 'nutriments_omega-3-fat_unit', 'nutriments_omega-3-fat_value', 'nutriments_fruits-vegetables-nuts_label', 'nutriments_iodine', 'nutriments_iodine_100g', 'nutriments_iodine_unit', 'nutriments_iodine_value', 'nutriments_calcium_modifier', 'nutriments_iron_label', 'nutriments_iron_modifier', 'nutriments_vitamin-a_label', 'nutriments_vitamin-a_modifier', 'nutriments_vitamin-c_label', 'nutriments_vitamin-c_modifier', 'nutriments_cholesterol', 'nutriments_cholesterol_100g', 'nutriments_cholesterol_serving', 'nutriments_cholesterol_unit', 'nutriments_cholesterol_value', 'nutriments_fr-residu-sec-a-105-c', 'nutriments_fr-residu-sec-a-105-c_100g', 'nutriments_fr-residu-sec-a-105-c_label', 'nutriments_fr-residu-sec-a-105-c_serving', 'nutriments_fr-residu-sec-a-105-c_unit', 'nutriments_fr-residu-sec-a-105-c_value', 'nutriments_trans-fat', 'nutriments_trans-fat_100g', 'nutriments_trans-fat_serving', 'nutriments_trans-fat_unit', 'nutriments_trans-fat_value', 'nutriments_cholesterol_label', 'nutriments_trans-fat_label', 'nutriments_nutrition-score_unit', 'nutriments_nutrition-score_value', 'nutriments_iodine_label', 'nutriments_iodine_serving', 'nutriments_carbohydrates_modifier', 'nutriments_omega-3-fat_label', 'nutriments_omega-6-fat', 'nutriments_omega-6-fat_100g', 'nutriments_omega-6-fat_label', 'nutriments_omega-6-fat_unit', 'nutriments_omega-6-fat_value', 'nutriments_omega-9-fat', 'nutriments_omega-9-fat_100g', 'nutriments_omega-9-fat_label', 'nutriments_omega-9-fat_unit', 'nutriments_omega-9-fat_value', 'nutriments_proteins_modifier']\n"
     ]
    }
   ],
   "source": [
    "print(df.columns.tolist())"
   ]
  },
  {
   "cell_type": "code",
   "execution_count": 131,
   "id": "6d9eb8f0-85d1-494f-883e-32944867b7cd",
   "metadata": {},
   "outputs": [
    {
     "data": {
      "image/png": "[encoded data removed]",
      "text/plain": [
       "<Figure size 600x400 with 1 Axes>"
      ]
     },
     "metadata": {},
     "output_type": "display_data"
    },
    {
     "data": {
      "image/png": "[encoded data removed]",
      "text/plain": [
       "<Figure size 600x400 with 1 Axes>"
      ]
     },
     "metadata": {},
     "output_type": "display_data"
    },
    {
     "data": {
      "image/png": "[encoded data removed]",
      "text/plain": [
       "<Figure size 600x400 with 1 Axes>"
      ]
     },
     "metadata": {},
     "output_type": "display_data"
    }
   ],
   "source": [
    "\n",
    "##Histograms for Calories, Sugars, Sugar-to-Carb Ratio\n",
    "# Distribution of Calories (kcal)\n",
    "plt.figure(figsize=(6,4))\n",
    "sns.histplot(df['nutriments_energy-kcal_100g'], bins=30, kde=True, color='green')\n",
    "plt.title('Distribution of Calories (kcal)')\n",
    "plt.xlabel('Calories (kcal)')\n",
    "plt.ylabel('Count')\n",
    "plt.show()\n",
    "\n",
    "# Distribution of Sugars (g)\n",
    "plt.figure(figsize=(6,4))\n",
    "sns.histplot(df['nutriments_sugars_100g'], bins=30, kde=True, color='red')\n",
    "plt.title('Distribution of Sugars (g)')\n",
    "plt.xlabel('Sugars (g)')\n",
    "plt.ylabel('Count')\n",
    "plt.show()\n",
    "\n",
    "# Distribution of Sugar-to-Carb Ratio\n",
    "plt.figure(figsize=(6,4))\n",
    "sns.histplot(df['sugar_to_carb_ratio'], bins=30, kde=True, color='purple')\n",
    "plt.title('Distribution of Sugar-to-Carb Ratio')\n",
    "plt.xlabel('Sugar-to-Carb Ratio')\n",
    "plt.ylabel('Count')\n",
    "plt.show()"
   ]
  },
  {
   "cell_type": "code",
   "execution_count": 135,
   "id": "2936f17b-aa32-496b-9559-56f056317657",
   "metadata": {},
   "outputs": [
    {
     "name": "stderr",
     "output_type": "stream",
     "text": [
      "/var/folders/1d/bgyh7yvj5ggfr7rjr7vlckp40000gp/T/ipykernel_1069/1505186038.py:7: FutureWarning: \n",
      "\n",
      "Passing `palette` without assigning `hue` is deprecated and will be removed in v0.14.0. Assign the `x` variable to `hue` and set `legend=False` for the same effect.\n",
      "\n",
      "  sns.boxplot(x='brands', y='nutriments_energy-kcal_value', data=df_top_brands, palette='Blues')\n"
     ]
    },
    {
     "data": {
      "image/png": "[encoded data removed]",
      "text/plain": [
       "<Figure size 1200x600 with 1 Axes>"
      ]
     },
     "metadata": {},
     "output_type": "display_data"
    },
    {
     "name": "stderr",
     "output_type": "stream",
     "text": [
      "/var/folders/1d/bgyh7yvj5ggfr7rjr7vlckp40000gp/T/ipykernel_1069/1505186038.py:14: FutureWarning: \n",
      "\n",
      "Passing `palette` without assigning `hue` is deprecated and will be removed in v0.14.0. Assign the `x` variable to `hue` and set `legend=False` for the same effect.\n",
      "\n",
      "  sns.boxplot(x='brands', y='nutriments_sugars_100g', data=df_top_brands, palette='Oranges')\n"
     ]
    },
    {
     "data": {
      "image/png": "[encoded data removed]",
      "text/plain": [
       "<Figure size 1200x600 with 1 Axes>"
      ]
     },
     "metadata": {},
     "output_type": "display_data"
    }
   ],
   "source": [
    "#Box Plots for Calories and Sugar Across Top Brands\n",
    "# Top 10 brands by number of products\n",
    "top_brands = df['brands'].value_counts().head(10).index\n",
    "df_top_brands = df[df['brands'].isin(top_brands)]\n",
    "\n",
    "plt.figure(figsize=(12,6))\n",
    "sns.boxplot(x='brands', y='nutriments_energy-kcal_value', data=df_top_brands, palette='Blues')\n",
    "plt.title('Calories Spread Across Top Brands')\n",
    "plt.xticks(rotation=45)\n",
    "plt.ylabel('Calories (kcal)')\n",
    "plt.show()\n",
    "\n",
    "plt.figure(figsize=(12,6))\n",
    "sns.boxplot(x='brands', y='nutriments_sugars_100g', data=df_top_brands, palette='Oranges')\n",
    "plt.title('Sugar Spread Across Top Brands')\n",
    "plt.xticks(rotation=45)\n",
    "plt.ylabel('Sugars (g)')\n",
    "plt.show()"
   ]
  },
  {
   "cell_type": "code",
   "execution_count": 137,
   "id": "0a08a8a2-3af4-4e12-b6fe-6b52fbb7889b",
   "metadata": {},
   "outputs": [
    {
     "data": {
      "image/png": "[encoded data removed]",
      "text/plain": [
       "<Figure size 800x600 with 1 Axes>"
      ]
     },
     "metadata": {},
     "output_type": "display_data"
    }
   ],
   "source": [
    "#Scatter Plot Calories vs Sugars\n",
    "plt.figure(figsize=(8,6))\n",
    "sns.scatterplot(\n",
    "    data=df,\n",
    "    x='nutriments_sugars_100g',\n",
    "    y='nutriments_energy-kcal_value',\n",
    "    hue='nutriments_nova-group',\n",
    "    palette='viridis',\n",
    "    alpha=0.7\n",
    ")\n",
    "plt.title('Calories vs Sugars by NOVA Group')\n",
    "plt.xlabel('Sugar (g)')\n",
    "plt.ylabel('Calories (kcal)')\n",
    "plt.legend(title='NOVA Group')\n",
    "plt.show()"
   ]
  },
  {
   "cell_type": "code",
   "execution_count": 139,
   "id": "b8322c4d-4d27-48c6-b8cc-8101a7fdff74",
   "metadata": {},
   "outputs": [
    {
     "data": {
      "image/png": "[encoded data removed]",
      "text/plain": [
       "<Figure size 1000x800 with 2 Axes>"
      ]
     },
     "metadata": {},
     "output_type": "display_data"
    }
   ],
   "source": [
    "#Heatmap for Correlations\n",
    "plt.figure(figsize=(10,8))\n",
    "\n",
    "numeric_cols = [\n",
    "    'nutriments_energy-kcal_value', \n",
    "    'nutriments_sugars_value', \n",
    "    'nutriments_carbohydrates_value', \n",
    "    'nutriments_fat_value', \n",
    "    'nutriments_proteins_value', \n",
    "    'nutriments_fiber_value', \n",
    "    'nutriments_salt_value', \n",
    "    'nutriments_sodium_value', \n",
    "    'sugar_to_carb_ratio'\n",
    "]\n",
    "\n",
    "corr_matrix = df[numeric_cols].corr()\n",
    "\n",
    "sns.heatmap(corr_matrix, annot=True, cmap='coolwarm', fmt=\".2f\")\n",
    "plt.title('Correlation Heatmap of Nutritional Values')\n",
    "plt.show()"
   ]
  },
  {
   "cell_type": "code",
   "execution_count": 141,
   "id": "909ceacd-a9d4-4544-9410-33c9adcf3645",
   "metadata": {},
   "outputs": [
    {
     "name": "stderr",
     "output_type": "stream",
     "text": [
      "/var/folders/1d/bgyh7yvj5ggfr7rjr7vlckp40000gp/T/ipykernel_1069/2113050665.py:7: FutureWarning: \n",
      "\n",
      "Passing `palette` without assigning `hue` is deprecated and will be removed in v0.14.0. Assign the `x` variable to `hue` and set `legend=False` for the same effect.\n",
      "\n",
      "  sns.barplot(x=top_calories.index, y=top_calories.values, palette='Reds_r')\n"
     ]
    },
    {
     "data": {
      "image/png": "[encoded data removed]",
      "text/plain": [
       "<Figure size 1000x500 with 1 Axes>"
      ]
     },
     "metadata": {},
     "output_type": "display_data"
    },
    {
     "name": "stderr",
     "output_type": "stream",
     "text": [
      "/var/folders/1d/bgyh7yvj5ggfr7rjr7vlckp40000gp/T/ipykernel_1069/2113050665.py:17: FutureWarning: \n",
      "\n",
      "Passing `palette` without assigning `hue` is deprecated and will be removed in v0.14.0. Assign the `x` variable to `hue` and set `legend=False` for the same effect.\n",
      "\n",
      "  sns.barplot(x=top_sugars.index, y=top_sugars.values, palette='Oranges_r')\n"
     ]
    },
    {
     "data": {
      "image/png": "[encoded data removed]",
      "text/plain": [
       "<Figure size 1000x500 with 1 Axes>"
      ]
     },
     "metadata": {},
     "output_type": "display_data"
    }
   ],
   "source": [
    "#Top N Brands by Average Calories or Sugars\n",
    "# Top 10 brands by average calories\n",
    "# Top 10 brands by average calories\n",
    "top_calories = df.groupby('brands')['nutriments_energy-kcal_value'].mean().sort_values(ascending=False).head(10)\n",
    "\n",
    "plt.figure(figsize=(10,5))\n",
    "sns.barplot(x=top_calories.index, y=top_calories.values, palette='Reds_r')\n",
    "plt.title('Top 10 Brands by Average Calories')\n",
    "plt.xticks(rotation=45)\n",
    "plt.ylabel('Average Calories (kcal)')\n",
    "plt.show()\n",
    "\n",
    "# Top 10 brands by average sugars\n",
    "top_sugars = df.groupby('brands')['nutriments_sugars_value'].mean().sort_values(ascending=False).head(10)\n",
    "\n",
    "plt.figure(figsize=(10,5))\n",
    "sns.barplot(x=top_sugars.index, y=top_sugars.values, palette='Oranges_r')\n",
    "plt.title('Top 10 Brands by Average Sugars')\n",
    "plt.xticks(rotation=45)\n",
    "plt.ylabel('Average Sugars (g)')\n",
    "plt.show()\n"
   ]
  },
  {
   "cell_type": "code",
   "execution_count": 150,
   "id": "f465f8f3-e86a-4746-99bf-f4ba98651666",
   "metadata": {},
   "outputs": [],
   "source": [
    "#Prepare Features and Targets\n",
    "# Features: use numeric columns\n",
    "# Features\n",
    "X = df[['nutriments_sugars_value', \n",
    "        'nutriments_carbohydrates_value', \n",
    "        'nutriments_fat_value', \n",
    "        'nutriments_proteins_value', \n",
    "        'nutriments_fiber_value', \n",
    "        'nutriments_salt_value', \n",
    "        'nutriments_sodium_value', \n",
    "        'sugar_to_carb_ratio']]\n",
    "\n",
    "# Regression target\n",
    "y_reg = df['nutriments_energy-kcal_value']"
   ]
  },
  {
   "cell_type": "code",
   "execution_count": 159,
   "id": "f4c724fe-aa13-4242-b646-f40712ef086d",
   "metadata": {},
   "outputs": [
    {
     "name": "stdout",
     "output_type": "stream",
     "text": [
      "RMSE: 42.64217510184263\n",
      "R^2 Score: 0.9712406661168592\n"
     ]
    }
   ],
   "source": [
    "import numpy as np\n",
    "from sklearn.metrics import mean_squared_error, r2_score\n",
    "\n",
    "# Ensure predictions and targets are numeric arrays\n",
    "y_test_reg = np.array(y_test_reg, dtype=np.float64).ravel()\n",
    "y_pred_reg = np.array(y_pred_reg, dtype=np.float64).ravel()\n",
    "\n",
    "# Remove NaN or infinite values\n",
    "mask = ~np.isnan(y_test_reg) & ~np.isnan(y_pred_reg) & ~np.isinf(y_test_reg) & ~np.isinf(y_pred_reg)\n",
    "y_test_reg = y_test_reg[mask]\n",
    "y_pred_reg = y_pred_reg[mask]\n",
    "\n",
    "# Compute metrics\n",
    "rmse = np.sqrt(mean_squared_error(y_test_reg, y_pred_reg))\n",
    "r2 = r2_score(y_test_reg, y_pred_reg)\n",
    "\n",
    "print(\"RMSE:\", rmse)\n",
    "print(\"R^2 Score:\", r2)"
   ]
  },
  {
   "cell_type": "code",
   "execution_count": 164,
   "id": "4d9f2abb-efbc-43e0-9993-ce2bdbd96c65",
   "metadata": {},
   "outputs": [
    {
     "name": "stdout",
     "output_type": "stream",
     "text": [
      "Accuracy: 0.85\n",
      "              precision    recall  f1-score   support\n",
      "\n",
      "           0       0.67      0.80      0.73         5\n",
      "           1       0.93      0.87      0.90        15\n",
      "\n",
      "    accuracy                           0.85        20\n",
      "   macro avg       0.80      0.83      0.81        20\n",
      "weighted avg       0.86      0.85      0.85        20\n",
      "\n"
     ]
    }
   ],
   "source": [
    "from sklearn.model_selection import train_test_split\n",
    "from sklearn.ensemble import RandomForestClassifier\n",
    "from sklearn.metrics import accuracy_score, classification_report\n",
    "\n",
    "# Features\n",
    "numeric_cols = [\n",
    "    'nutriments_sugars_value',\n",
    "    'nutriments_carbohydrates_value',\n",
    "    'nutriments_fat_value',\n",
    "    'nutriments_proteins_value',\n",
    "    'nutriments_fiber_value',\n",
    "    'nutriments_salt_value',\n",
    "    'nutriments_sodium_value',\n",
    "    'sugar_to_carb_ratio'\n",
    "]\n",
    "\n",
    "X_clf = df[numeric_cols].fillna(0)  # handle missing values\n",
    "y_clf = df['is_ultra_processed'].map({'Yes': 1, 'No': 0})\n",
    "\n",
    "# Train-test split\n",
    "X_train_clf, X_test_clf, y_train_clf, y_test_clf = train_test_split(\n",
    "    X_clf, y_clf, test_size=0.2, random_state=42\n",
    ")\n",
    "\n",
    "# Train classifier\n",
    "clf_model = RandomForestClassifier(n_estimators=100, random_state=42)\n",
    "clf_model.fit(X_train_clf, y_train_clf)\n",
    "\n",
    "# Predict\n",
    "y_pred_clf = clf_model.predict(X_test_clf)\n",
    "\n",
    "# Evaluate\n",
    "print(\"Accuracy:\", accuracy_score(y_test_clf, y_pred_clf))\n",
    "print(classification_report(y_test_clf, y_pred_clf))"
   ]
  },
  {
   "cell_type": "code",
   "execution_count": 224,
   "id": "da67d9a8-faac-452d-bddd-aa6905796b33",
   "metadata": {},
   "outputs": [
    {
     "name": "stdout",
     "output_type": "stream",
     "text": [
      "R² score: 0.9712406661168592\n"
     ]
    }
   ],
   "source": [
    "# Assuming X_test and y_test are defined\n",
    "r2 = model.score(X_test, y_test)\n",
    "print(\"R² score:\", r2)"
   ]
  },
  {
   "cell_type": "code",
   "execution_count": 225,
   "id": "e092435f-e390-481d-ba1f-5154927d59e7",
   "metadata": {},
   "outputs": [
    {
     "name": "stdout",
     "output_type": "stream",
     "text": [
      "Accuracy: 0.9712406661168592\n"
     ]
    }
   ],
   "source": [
    "accuracy = model.score(X_test, y_test)\n",
    "print(\"Accuracy:\", accuracy)"
   ]
  },
  {
   "cell_type": "code",
   "execution_count": null,
   "id": "7259d7c1-ff06-473d-9f32-2ca669d34768",
   "metadata": {},
   "outputs": [],
   "source": []
  },
  {
   "cell_type": "code",
   "execution_count": null,
   "id": "91ea6e51-10d4-4c7a-9c92-8797cb8fb8eb",
   "metadata": {},
   "outputs": [],
   "source": [
    "#What these cells do:\n",
    "#Prepare features and targets\n",
    "\n",
    "#Split into train/test sets\n",
    "\n",
    "###Train Random Forest Regressor for calories\n",
    "\n",
    "#Train Random Forest Classifier for calorie category\n",
    "\n",
    "#Evaluate performance with RMSE, R², accuracy, classification report\n",
    "\n",
    "#Show feature importance for regression"
   ]
  },
  {
   "cell_type": "code",
   "execution_count": 165,
   "id": "dc13256d-da8c-4ad1-8803-770ca72631ba",
   "metadata": {},
   "outputs": [
    {
     "data": {
      "image/png": "[encoded data removed]",
      "text/plain": [
       "<Figure size 640x480 with 2 Axes>"
      ]
     },
     "metadata": {},
     "output_type": "display_data"
    }
   ],
   "source": [
    "#Confusion Matrix for Classification Model\n",
    "from sklearn.metrics import confusion_matrix, ConfusionMatrixDisplay\n",
    "\n",
    "# Predict on test set\n",
    "y_pred_clf = clf_model.predict(X_test_clf)\n",
    "\n",
    "# Compute confusion matrix\n",
    "cm = confusion_matrix(y_test_clf, y_pred_clf, labels=clf_model.classes_)\n",
    "\n",
    "# Display confusion matrix\n",
    "disp = ConfusionMatrixDisplay(confusion_matrix=cm, display_labels=clf_model.classes_)\n",
    "disp.plot(cmap='Blues', values_format='d')\n",
    "plt.title('Confusion Matrix for Calorie Category Classification')\n",
    "plt.show()\n"
   ]
  },
  {
   "cell_type": "code",
   "execution_count": 166,
   "id": "c3b52395-09c2-451b-9a9b-bd81fc40bb72",
   "metadata": {},
   "outputs": [
    {
     "name": "stdout",
     "output_type": "stream",
     "text": [
      "True Positive (TP): 13\n",
      "True Negative (TN): 4\n",
      "False Positive (FP): 1\n",
      "False Negative (FN): 2\n"
     ]
    }
   ],
   "source": [
    "from sklearn.metrics import confusion_matrix\n",
    "\n",
    "# Compute confusion matrix\n",
    "cm = confusion_matrix(y_test_clf, y_pred_clf, labels=clf_model.classes_)\n",
    "\n",
    "# For binary classification only\n",
    "if cm.shape == (2,2):\n",
    "    TN, FP, FN, TP = cm.ravel()\n",
    "    print(f\"True Positive (TP): {TP}\")\n",
    "    print(f\"True Negative (TN): {TN}\")\n",
    "    print(f\"False Positive (FP): {FP}\")\n",
    "    print(f\"False Negative (FN): {FN}\")\n",
    "else:\n",
    "    print(\"Multiclass classification: confusion matrix has more than 2 classes\")\n",
    "    print(cm)\n"
   ]
  },
  {
   "cell_type": "code",
   "execution_count": 167,
   "id": "eacbf33c-bfa0-4f3e-96a4-688b4a0d6a2e",
   "metadata": {},
   "outputs": [
    {
     "name": "stdout",
     "output_type": "stream",
     "text": [
      "Confusion Matrix:\n",
      " [[ 4  1]\n",
      " [ 2 13]]\n",
      "\n",
      "TP, TN, FP, FN for each class:\n",
      "\n",
      "Class: 0\n",
      "True Positive (TP): 4\n",
      "True Negative (TN): 13\n",
      "False Positive (FP): 2\n",
      "False Negative (FN): 1\n",
      "\n",
      "Class: 1\n",
      "True Positive (TP): 13\n",
      "True Negative (TN): 4\n",
      "False Positive (FP): 1\n",
      "False Negative (FN): 2\n"
     ]
    }
   ],
   "source": [
    "from sklearn.metrics import confusion_matrix\n",
    "\n",
    "# Classes\n",
    "classes = clf_model.classes_\n",
    "\n",
    "# Compute confusion matrix\n",
    "cm = confusion_matrix(y_test_clf, y_pred_clf, labels=classes)\n",
    "\n",
    "# Display overall confusion matrix\n",
    "print(\"Confusion Matrix:\\n\", cm)\n",
    "\n",
    "# Compute TP, TN, FP, FN per class\n",
    "print(\"\\nTP, TN, FP, FN for each class:\")\n",
    "for i, cls in enumerate(classes):\n",
    "    TP = cm[i, i]\n",
    "    FP = cm[:, i].sum() - TP\n",
    "    FN = cm[i, :].sum() - TP\n",
    "    TN = cm.sum() - (TP + FP + FN)\n",
    "    print(f\"\\nClass: {cls}\")\n",
    "    print(f\"True Positive (TP): {TP}\")\n",
    "    print(f\"True Negative (TN): {TN}\")\n",
    "    print(f\"False Positive (FP): {FP}\")\n",
    "    print(f\"False Negative (FN): {FN}\")\n"
   ]
  },
  {
   "cell_type": "code",
   "execution_count": 230,
   "id": "b0d3f83d-f368-4caf-8a7b-b885bccf9d66",
   "metadata": {},
   "outputs": [
    {
     "name": "stdout",
     "output_type": "stream",
     "text": [
      "Classification Report:\n",
      "\n",
      "              precision    recall  f1-score   support\n",
      "\n",
      "        High       0.88      1.00      0.93         7\n",
      "         Low       1.00      1.00      1.00         9\n",
      "      Medium       1.00      0.75      0.86         4\n",
      "\n",
      "    accuracy                           0.95        20\n",
      "   macro avg       0.96      0.92      0.93        20\n",
      "weighted avg       0.96      0.95      0.95        20\n",
      "\n"
     ]
    },
    {
     "data": {
      "image/png": "[encoded data removed]",
      "text/plain": [
       "<Figure size 600x500 with 2 Axes>"
      ]
     },
     "metadata": {},
     "output_type": "display_data"
    }
   ],
   "source": [
    "from sklearn.model_selection import train_test_split\n",
    "from sklearn.ensemble import GradientBoostingClassifier\n",
    "from sklearn.preprocessing import LabelEncoder\n",
    "from sklearn.metrics import classification_report, confusion_matrix\n",
    "import seaborn as sns\n",
    "import matplotlib.pyplot as plt\n",
    "\n",
    "# Features (numerical nutrition features)\n",
    "features = [\"nutriments_carbohydrates_100g\", \"nutriments_sugars_100g\", \n",
    "            \"nutriments_fat_100g\", \"nutriments_proteins_100g\", \n",
    "            \"nutriments_fiber_100g\", \"nutriments_sodium_100g\"]\n",
    "\n",
    "X = df[features].fillna(0)\n",
    "y = df[\"calorie_category\"]\n",
    "\n",
    "# Encode target labels\n",
    "le = LabelEncoder()\n",
    "y_encoded = le.fit_transform(y)\n",
    "\n",
    "# Train-test split\n",
    "X_train, X_test, y_train, y_test = train_test_split(\n",
    "    X, y_encoded, test_size=0.2, random_state=42\n",
    ")\n",
    "\n",
    "# Initialize Gradient Boosting Classifier\n",
    "gb_model = GradientBoostingClassifier(n_estimators=100, learning_rate=0.1, random_state=42)\n",
    "\n",
    "# Fit the model\n",
    "gb_model.fit(X_train, y_train)\n",
    "\n",
    "# Predictions\n",
    "y_pred = gb_model.predict(X_test)\n",
    "\n",
    "# Classification report\n",
    "print(\"Classification Report:\\n\")\n",
    "print(classification_report(y_test, y_pred, target_names=le.classes_))\n",
    "\n",
    "# Confusion matrix\n",
    "cm = confusion_matrix(y_test, y_pred)\n",
    "plt.figure(figsize=(6,5))\n",
    "sns.heatmap(cm, annot=True, fmt='d', cmap='Blues', xticklabels=le.classes_, yticklabels=le.classes_)\n",
    "plt.xlabel('Predicted')\n",
    "plt.ylabel('Actual')\n",
    "plt.title('Confusion Matrix - Gradient Boosting Classifier')\n",
    "plt.show()"
   ]
  },
  {
   "cell_type": "code",
   "execution_count": 231,
   "id": "780c2cd8-502c-4ce4-9f44-595f4d450198",
   "metadata": {},
   "outputs": [
    {
     "name": "stdout",
     "output_type": "stream",
     "text": [
      "Train Accuracy: 1.00\n",
      "Test Accuracy: 0.95\n"
     ]
    }
   ],
   "source": [
    "train_accuracy = gb_model.score(X_train, y_train)\n",
    "print(f\"Train Accuracy: {train_accuracy:.2f}\")\n",
    "\n",
    "# Test accuracy\n",
    "test_accuracy = gb_model.score(X_test, y_test)\n",
    "print(f\"Test Accuracy: {test_accuracy:.2f}\")"
   ]
  },
  {
   "cell_type": "code",
   "execution_count": 172,
   "id": "8a16c4ed-d5e2-486c-9373-88357b97e269",
   "metadata": {},
   "outputs": [
    {
     "name": "stdout",
     "output_type": "stream",
     "text": [
      "Tables recreated successfully.\n"
     ]
    }
   ],
   "source": [
    "from sqlalchemy import create_engine, MetaData, Table, Column, String, Float, Integer\n",
    "\n",
    "# Create database engine\n",
    "engine = create_engine('sqlite:///products.db')  # Replace with your DB URI if not SQLite\n",
    "\n",
    "# Create a new MetaData object\n",
    "metadata = MetaData()\n",
    "\n",
    "# Table 1: product_info\n",
    "product_info = Table(\n",
    "    'product_info', metadata,\n",
    "    Column('product_code', String, primary_key=True),\n",
    "    Column('product_name', String),\n",
    "    Column('brand', String)\n",
    ")\n",
    "\n",
    "# Table 2: nutrient_info\n",
    "nutrient_info = Table(\n",
    "    'nutrient_info', metadata,\n",
    "    Column('product_code', String, primary_key=True),\n",
    "    Column('energy_kcal_value', Float),\n",
    "    Column('energy_kj_value', Float),\n",
    "    Column('carbohydrates_value', Float),\n",
    "    Column('sugars_value', Float),\n",
    "    Column('fat_value', Float),\n",
    "    Column('saturated_fat_value', Float),\n",
    "    Column('proteins_value', Float),\n",
    "    Column('fiber_value', Float),\n",
    "    Column('salt_value', Float),\n",
    "    Column('sodium_value', Float),\n",
    "    Column('fruits_vegetables_nuts_100g', Float),\n",
    "    Column('nutrition_score_fr', Integer),\n",
    "    Column('nova_group', Integer)\n",
    ")\n",
    "\n",
    "# Table 3: derived_metrics\n",
    "derived_metrics = Table(\n",
    "    'derived_metrics', metadata,\n",
    "    Column('product_code', String, primary_key=True),\n",
    "    Column('sugar_to_carb_ratio', Float),\n",
    "    Column('calorie_category', String),\n",
    "    Column('sugar_category', String),\n",
    "    Column('is_ultra_processed', String)\n",
    ")\n",
    "\n",
    "# Drop existing tables and create new ones\n",
    "metadata.drop_all(engine)\n",
    "metadata.create_all(engine)\n",
    "\n",
    "print(\"Tables recreated successfully.\")"
   ]
  },
  {
   "cell_type": "code",
   "execution_count": 173,
   "id": "dfc02eba-2144-442a-b6b7-80fd37dc0e81",
   "metadata": {},
   "outputs": [
    {
     "name": "stdout",
     "output_type": "stream",
     "text": [
      "✅ Old rows deleted from all tables\n"
     ]
    }
   ],
   "source": [
    "\n",
    "from sqlalchemy import delete\n",
    "\n",
    "with engine.begin() as conn:\n",
    "    conn.execute(delete(product_info))\n",
    "    conn.execute(delete(nutrient_info))\n",
    "    conn.execute(delete(derived_metrics))\n",
    "\n",
    "print(\"✅ Old rows deleted from all tables\")\n"
   ]
  },
  {
   "cell_type": "code",
   "execution_count": 180,
   "id": "4513842a-8291-4609-bf90-565ba26f9bfa",
   "metadata": {},
   "outputs": [],
   "source": [
    "from sqlalchemy.dialects.sqlite import insert as sqlite_insert\n",
    "\n",
    "with engine.begin() as conn:  # This automatically begins a transaction and commits at the end\n",
    "    for _, row in df.iterrows():\n",
    "        ins = sqlite_insert(product_info).values(\n",
    "            product_code=row['code'],\n",
    "            product_name=row['product_name'],\n",
    "            brand=row['brands']\n",
    "        ).prefix_with(\"OR IGNORE\")  # Skip if duplicate\n",
    "        conn.execute(ins)"
   ]
  },
  {
   "cell_type": "code",
   "execution_count": 181,
   "id": "8117ae88-8a90-473c-9bd9-de17f12da197",
   "metadata": {},
   "outputs": [],
   "source": [
    "with engine.connect() as conn:\n",
    "    trans = conn.begin()\n",
    "    try:\n",
    "        for _, row in df.iterrows():\n",
    "            ins = sqlite_insert(product_info).values(\n",
    "                product_code=row['code'],\n",
    "                product_name=row['product_name'],\n",
    "                brand=row['brands']\n",
    "            ).prefix_with(\"OR IGNORE\")\n",
    "            conn.execute(ins)\n",
    "        trans.commit()\n",
    "    except:\n",
    "        trans.rollback()\n",
    "        raise\n"
   ]
  },
  {
   "cell_type": "code",
   "execution_count": 184,
   "id": "c0c26934-66cc-4d95-af7f-4e42147e071c",
   "metadata": {},
   "outputs": [],
   "source": [
    "from sqlalchemy.dialects.sqlite import insert as sqlite_insert\n",
    "\n",
    "# Insert into product_info (skip duplicates using OR IGNORE)\n",
    "with engine.begin() as conn:  # engine.begin() handles commit/rollback automatically\n",
    "    for _, row in df.iterrows():\n",
    "        ins = sqlite_insert(product_info).values(\n",
    "            product_code=row['code'],\n",
    "            product_name=row['product_name'],\n",
    "            brand=row['brands']\n",
    "        ).prefix_with(\"OR IGNORE\")  # skip if duplicate\n",
    "        conn.execute(ins)\n",
    "\n",
    "# Insert into nutrient_info (skip duplicates)\n",
    "with engine.begin() as conn:\n",
    "    for _, row in df.iterrows():\n",
    "        ins = sqlite_insert(nutrient_info).values(\n",
    "            product_code=row['code'],\n",
    "            energy_kcal_value=row['nutriments_energy-kcal'],\n",
    "            energy_kj_value=row['nutriments_energy-kj'],\n",
    "            carbohydrates_value=row['nutriments_carbohydrates_value'],\n",
    "            sugars_value=row['nutriments_sugars_value'],\n",
    "            fat_value=row['nutriments_fat_value'],\n",
    "            saturated_fat_value=row['nutriments_saturated-fat_value'],\n",
    "            proteins_value=row['nutriments_proteins_value'],\n",
    "            fiber_value=row['nutriments_fiber_value'],\n",
    "            salt_value=row['nutriments_salt_value'],\n",
    "            sodium_value=row['nutriments_sodium_value'],\n",
    "            fruits_vegetables_nuts_100g=row.get('fruits-vegetables-nuts-estimate-from-ingredients_100g'),\n",
    "            nutrition_score_fr=row.get('nutrition-score-fr'),\n",
    "            nova_group=row.get('nova-group')\n",
    "        ).prefix_with(\"OR IGNORE\")\n",
    "        conn.execute(ins)"
   ]
  },
  {
   "cell_type": "code",
   "execution_count": null,
   "id": "f71bbf1b-a5cf-43f1-914a-9f2f3a3b86a2",
   "metadata": {},
   "outputs": [],
   "source": []
  },
  {
   "cell_type": "code",
   "execution_count": null,
   "id": "ef75ed54-e997-4be0-af10-7c2075eb40e9",
   "metadata": {},
   "outputs": [],
   "source": []
  },
  {
   "cell_type": "code",
   "execution_count": 185,
   "id": "b305d059-ffbd-42a2-aab2-935327bf5f99",
   "metadata": {},
   "outputs": [
    {
     "name": "stdout",
     "output_type": "stream",
     "text": [
      "✅ Old rows deleted from derived_metrics\n"
     ]
    }
   ],
   "source": [
    "from sqlalchemy import delete\n",
    "\n",
    "# Clear all rows in derived_metrics\n",
    "with engine.begin() as conn:\n",
    "    conn.execute(delete(derived_metrics))\n",
    "\n",
    "print(\"✅ Old rows deleted from derived_metrics\")\n"
   ]
  },
  {
   "cell_type": "code",
   "execution_count": 186,
   "id": "6e6d6b34-c05f-47f2-9496-6a939563c6dc",
   "metadata": {},
   "outputs": [
    {
     "name": "stdout",
     "output_type": "stream",
     "text": [
      "✅ New rows inserted into derived_metrics\n"
     ]
    }
   ],
   "source": [
    "from sqlalchemy import insert\n",
    "\n",
    "with engine.begin() as conn:\n",
    "    for idx, row in df.iterrows():\n",
    "        ins = insert(derived_metrics).values(\n",
    "            product_code=row['code'],\n",
    "            sugar_to_carb_ratio=row['sugar_to_carb_ratio'],\n",
    "            calorie_category=row['calorie_category'],\n",
    "            sugar_category=row['sugar_category'],\n",
    "            is_ultra_processed=row['is_ultra_processed']\n",
    "        )\n",
    "        conn.execute(ins)\n",
    "\n",
    "print(\"✅ New rows inserted into derived_metrics\")\n"
   ]
  },
  {
   "cell_type": "code",
   "execution_count": 192,
   "id": "4525873e-17a0-407b-86db-bce3f520c821",
   "metadata": {},
   "outputs": [
    {
     "name": "stdout",
     "output_type": "stream",
     "text": [
      "Total rows in derived_metrics: 100\n"
     ]
    }
   ],
   "source": [
    "from sqlalchemy import select, func\n",
    "\n",
    "with engine.begin() as conn:\n",
    "    result = conn.execute(select(func.count()).select_from(derived_metrics))\n",
    "    print(\"Total rows in derived_metrics:\", result.scalar())\n"
   ]
  },
  {
   "cell_type": "code",
   "execution_count": 193,
   "id": "46a686c6-78cb-4703-87b9-805cd6078d58",
   "metadata": {},
   "outputs": [
    {
     "name": "stdout",
     "output_type": "stream",
     "text": [
      "product_info rows: 100\n",
      "nutrient_info rows: 100\n",
      "derived_metrics rows: 100\n"
     ]
    }
   ],
   "source": [
    "from sqlalchemy import select, func\n",
    "\n",
    "with engine.begin() as conn:\n",
    "    pi_count = conn.execute(select(func.count()).select_from(product_info)).scalar()\n",
    "    ni_count = conn.execute(select(func.count()).select_from(nutrient_info)).scalar()\n",
    "    dm_count = conn.execute(select(func.count()).select_from(derived_metrics)).scalar()\n",
    "\n",
    "print(\"product_info rows:\", pi_count)\n",
    "print(\"nutrient_info rows:\", ni_count)\n",
    "print(\"derived_metrics rows:\", dm_count)\n"
   ]
  },
  {
   "cell_type": "code",
   "execution_count": 194,
   "id": "72ecac56-03d6-43c7-979d-95179a4c2158",
   "metadata": {},
   "outputs": [
    {
     "name": "stdout",
     "output_type": "stream",
     "text": [
      "Products per brand:\n",
      " [('8dh', 1), ('ain atlas', 1), ('alesto, 16 x lidl 10.25, lidl, lidl alesto, 14 x lidl 10.25', 1), ('alesto,alesto lidl,alesto selection,lidl', 1), ('alesto,lidl', 2), ('alpro', 2), ('aquafina', 2), ('aïn atlas', 1), ('aïn lfrane', 1), ('aïn saiss', 1), ('bahia', 1), ('bimo', 1), ('bjorg', 1), ('bonne maman', 1), ('centrale danone', 1), ('ciel', 1), ('coca cola', 1), ('coca-cola', 3), ('cosumar', 1), ('cristaline', 2), ('danone', 5), ('dost', 1), ('délicia', 1), ('eau minérale naturelle', 1), (\"eau minérale naturelle des montagnes d'atlas\", 1), ('el baraka', 1), ('excelo', 1), ('ferrero', 2), ('gerblé', 1), ('gervais', 1), (\"green & black's\", 1), ('green and black', 1), ('gullón', 1), ('heinz', 1), (\"henry's\", 2), ('j.d. gross', 1), ('jaouda', 7), (\"jason's\", 2), ('jason’s', 1), ('jibal', 1), ('joly', 1), ('la hollandaise', 1), ('la prairie', 1), (\"les eaux minérales d'oulmès s.a.\", 1), (\"les eaux minérales d'oulmès,sidi ali\", 1), ('lilia', 1), ('lindt', 4), ('lindt&sprüngli', 1), ('lu', 1), ('lurpak', 1), ('marmite,unilever', 1), ('maruja', 1), ('milky food professional', 1), ('nestlé', 1), ('oatly', 1), ('original', 1), ('oulmès', 1), ('pepsi', 1), ('primevère', 1), ('rigoni di asiago', 1), ('salim', 1), ('sidi ali', 3), ('solis', 1), ('sos', 1), ('star', 4), ('the coca-cola company', 1), (\"tyrrell's\", 1), ('unknown', 2), ('volvic', 1), ('wasa', 1), ('weetabix', 1), ('سلطان', 1)]\n"
     ]
    }
   ],
   "source": [
    "#Queries on product_info\n",
    "stmt = select(product_info.c.brand, func.count().label(\"product_count\")).group_by(product_info.c.brand)\n",
    "result = engine.execute(stmt).all()\n",
    "print(\"Products per brand:\\n\", result)\n"
   ]
  },
  {
   "cell_type": "code",
   "execution_count": 195,
   "id": "88b79925-1bc0-4592-b28b-eecc9364b0fd",
   "metadata": {},
   "outputs": [
    {
     "name": "stdout",
     "output_type": "stream",
     "text": [
      "Unique products per brand:\n",
      " [('8dh', 1), ('ain atlas', 1), ('alesto, 16 x lidl 10.25, lidl, lidl alesto, 14 x lidl 10.25', 1), ('alesto,alesto lidl,alesto selection,lidl', 1), ('alesto,lidl', 2), ('alpro', 2), ('aquafina', 2), ('aïn atlas', 1), ('aïn lfrane', 1), ('aïn saiss', 1), ('bahia', 1), ('bimo', 1), ('bjorg', 1), ('bonne maman', 1), ('centrale danone', 1), ('ciel', 1), ('coca cola', 1), ('coca-cola', 3), ('cosumar', 1), ('cristaline', 2), ('danone', 5), ('dost', 1), ('délicia', 1), ('eau minérale naturelle', 1), (\"eau minérale naturelle des montagnes d'atlas\", 1), ('el baraka', 1), ('excelo', 1), ('ferrero', 2), ('gerblé', 1), ('gervais', 1), (\"green & black's\", 1), ('green and black', 1), ('gullón', 1), ('heinz', 1), (\"henry's\", 2), ('j.d. gross', 1), ('jaouda', 7), (\"jason's\", 2), ('jason’s', 1), ('jibal', 1), ('joly', 1), ('la hollandaise', 1), ('la prairie', 1), (\"les eaux minérales d'oulmès s.a.\", 1), (\"les eaux minérales d'oulmès,sidi ali\", 1), ('lilia', 1), ('lindt', 4), ('lindt&sprüngli', 1), ('lu', 1), ('lurpak', 1), ('marmite,unilever', 1), ('maruja', 1), ('milky food professional', 1), ('nestlé', 1), ('oatly', 1), ('original', 1), ('oulmès', 1), ('pepsi', 1), ('primevère', 1), ('rigoni di asiago', 1), ('salim', 1), ('sidi ali', 3), ('solis', 1), ('sos', 1), ('star', 4), ('the coca-cola company', 1), (\"tyrrell's\", 1), ('unknown', 2), ('volvic', 1), ('wasa', 1), ('weetabix', 1), ('سلطان', 1)]\n"
     ]
    }
   ],
   "source": [
    "#2️⃣ Count unique products per bra\n",
    "ndstmt = select(product_info.c.brand, func.count(func.distinct(product_info.c.product_name)).label(\"unique_products\")).group_by(product_info.c.brand)\n",
    "result = engine.execute(stmt).all()\n",
    "print(\"Unique products per brand:\\n\", result)\n"
   ]
  },
  {
   "cell_type": "code",
   "execution_count": 196,
   "id": "b3961785-d599-45fa-b90a-a14c4e717dc0",
   "metadata": {},
   "outputs": [
    {
     "name": "stdout",
     "output_type": "stream",
     "text": [
      "Top 5 brands:\n",
      " [('jaouda', 7), ('danone', 5), ('star', 4), ('lindt', 4), ('sidi ali', 3)]\n"
     ]
    }
   ],
   "source": [
    "#3️⃣ Top 5 brands by product count\n",
    "stmt = select(product_info.c.brand, func.count().label(\"product_count\")).group_by(product_info.c.brand).order_by(func.count().desc()).limit(5)\n",
    "result = engine.execute(stmt).all()\n",
    "print(\"Top 5 brands:\\n\", result)\n"
   ]
  },
  {
   "cell_type": "code",
   "execution_count": 197,
   "id": "5dc10f51-8181-4dab-a934-4284df3aa4c4",
   "metadata": {},
   "outputs": [
    {
     "name": "stdout",
     "output_type": "stream",
     "text": [
      "Products with missing name:\n",
      " []\n"
     ]
    }
   ],
   "source": [
    "#4️⃣ Products with missing product name\n",
    "\n",
    "stmt = select(product_info).where(\n",
    "    (product_info.c.product_name == \"\") | (product_info.c.product_name.is_(None))\n",
    ")\n",
    "\n",
    "# Execute the query\n",
    "with engine.begin() as conn:\n",
    "    result = conn.execute(stmt).all()\n",
    "\n",
    "print(\"Products with missing name:\\n\", result)\n"
   ]
  },
  {
   "cell_type": "code",
   "execution_count": 198,
   "id": "97ef3fdf-44b6-4b9f-a0cc-fba0ae4a6ee4",
   "metadata": {},
   "outputs": [
    {
     "name": "stdout",
     "output_type": "stream",
     "text": [
      "Number of unique brands: 72\n"
     ]
    }
   ],
   "source": [
    "#5️⃣ Number of unique brands\n",
    "stmt = select(func.count(func.distinct(product_info.c.brand)))\n",
    "result = engine.execute(stmt).scalar()\n",
    "print(\"Number of unique brands:\", result)\n"
   ]
  },
  {
   "cell_type": "code",
   "execution_count": 199,
   "id": "8ed8e21e-712c-476b-a3f1-e0b3d74cc470",
   "metadata": {},
   "outputs": [
    {
     "name": "stdout",
     "output_type": "stream",
     "text": [
      "Products with code starting with '3':\n",
      " [('3274080005003', 'Eau De Source', 'cristaline'), ('3046920029759', 'Lindt Excellence 90%', 'lindt&sprüngli'), ('3046920028004', 'Excellence 70% Cocoa Intense Dark', 'lindt'), ('3017620425035', 'Nutella', 'ferrero'), ('3175680011480', 'Sésame', 'gerblé'), ('3046920028363', 'Excellence 85% Cacao Rich Dark', 'lindt'), ('3268840001008', 'CRISTALINE Eau De Source 0.5L', 'cristaline'), ('3017620422003', 'Nutella', 'ferrero'), ('3362600011044', 'Henry’s', \"henry's\"), ('3362600011228', 'Sable coco Henry s 42g', \"henry's\"), ('3046920022651', 'Excellence Noir Intense 70% Cacao', 'lindt'), ('3608580065340', 'Pâte à tartiner noisettes et cacao', 'bonne maman'), ('3057640257773', 'Eau Minérale Naturelle', 'volvic'), ('3046920022606', 'Excellence Noir Puissant 85% Cacao', 'lindt'), ('3155251205296', 'Tartine Doux', 'primevère'), ('3229820100234', 'Fourrés Chocolat Noir', 'bjorg')]\n"
     ]
    }
   ],
   "source": [
    "#6️⃣ Products with code starting with '3'\n",
    "stmt = select(product_info).where(product_info.c.product_code.like('3%'))\n",
    "result = engine.execute(stmt).all()\n",
    "print(\"Products with code starting with '3':\\n\", result)\n"
   ]
  },
  {
   "cell_type": "code",
   "execution_count": 200,
   "id": "a5b901e0-9f8a-4eb3-a028-ecf1e771605f",
   "metadata": {},
   "outputs": [
    {
     "name": "stdout",
     "output_type": "stream",
     "text": [
      "Top 10 high-calorie products:\n",
      " [('20005733', 712.0, 2981.0, 3.7, 3.0, 69.1, 6.8, 15.5, 6.8, 0.02, 0.008, None, None, None), ('5740900404465', 679.0, 1061.0, 0.6, 0.6, 75.0, 35.0, 0.5, 0.0, 0.885, 0.354, None, None, None), ('6111099003897', 675.0, 1061.0, 0.2, 0.0, 75.0, 34.0, 0.1, 0.0, 0.5, 0.2, None, None, None), ('20047238', 646.0, 2705.0, 6.4, 4.2, 58.0, 6.4, 20.4, 8.5, 0.01, 0.004, None, None, None), ('6111203001467', 635.0, 2659.0, 0.7, 0.0, 70.0, 0.0, 1.0, 0.0, 0.7, 0.28, None, None, None), ('20724696', 621.0, 1061.0, 4.67, 4.67, 53.3, 4.33, 24.7, 12.0, 0.01, 0.004, None, None, None), ('7622210584724', 607.0, 2512.0, 24.0, 0.0, 50.0, 0.0, 10.0, 0.0, 0.0, 0.0, None, None, None), ('20267605', 600.0, 1061.0, 19.8, 6.5, 47.6, 9.0, 20.5, 5.2, 5e-05, 2e-05, None, None, None), ('3046920029759', 592.0, 1061.0, 14.0, 2.0, 55.0, 10.0, 10.0, 5.0, 0.09875, 0.0395, None, None, None), ('6111184004129', 592.0, 2435.4, 0.22, 0.05, 65.21, 9.8, 1.12, 0.5, 1.75, 0.7, None, None, None)]\n"
     ]
    }
   ],
   "source": [
    "#📑 Queries on nutrient_info\n",
    "#1️⃣ Top 10 products with highest energy-kcal_value\n",
    "stmt = select(nutrient_info).order_by(nutrient_info.c.energy_kcal_value.desc()).limit(10)\n",
    "result = engine.execute(stmt).all()\n",
    "print(\"Top 10 high-calorie products:\\n\", result)\n"
   ]
  },
  {
   "cell_type": "code",
   "execution_count": 201,
   "id": "4cbb77b7-4093-4c18-ac86-a819e9cceacb",
   "metadata": {},
   "outputs": [
    {
     "name": "stdout",
     "output_type": "stream",
     "text": [
      "Average sugars per NOVA group:\n",
      " [(None, 9.358653)]\n"
     ]
    }
   ],
   "source": [
    "#2️⃣ Average sugars_value per nova-group\n",
    "stmt = select(nutrient_info.c.nova_group, func.avg(nutrient_info.c.sugars_value).label(\"avg_sugars\")).group_by(nutrient_info.c.nova_group)\n",
    "result = engine.execute(stmt).all()\n",
    "print(\"Average sugars per NOVA group:\\n\", result)\n"
   ]
  },
  {
   "cell_type": "code",
   "execution_count": 202,
   "id": "86443f1d-d118-4adb-82af-634790b60170",
   "metadata": {},
   "outputs": [
    {
     "name": "stdout",
     "output_type": "stream",
     "text": [
      "Products with fat > 20g: 27\n"
     ]
    }
   ],
   "source": [
    "#3️⃣ Count products with fat_value > 20g\n",
    "stmt = select(func.count()).where(nutrient_info.c.fat_value > 20)\n",
    "result = engine.execute(stmt).scalar()\n",
    "print(\"Products with fat > 20g:\", result)\n"
   ]
  },
  {
   "cell_type": "code",
   "execution_count": 203,
   "id": "245f7488-81fa-428f-98a4-d01795744219",
   "metadata": {},
   "outputs": [
    {
     "name": "stdout",
     "output_type": "stream",
     "text": [
      "Average carbohydrates: 17.936806\n"
     ]
    }
   ],
   "source": [
    "#4️⃣ Average carbohydrates_value per product\n",
    "stmt = select(func.avg(nutrient_info.c.carbohydrates_value))\n",
    "result = engine.execute(stmt).scalar()\n",
    "print(\"Average carbohydrates:\", result)\n"
   ]
  },
  {
   "cell_type": "code",
   "execution_count": 204,
   "id": "0c8335b1-2097-49ab-b2a4-68a3baad2af7",
   "metadata": {},
   "outputs": [
    {
     "name": "stdout",
     "output_type": "stream",
     "text": [
      "Products with sodium > 1g:\n",
      " [('6111035002175', 116.0, 1061.0, 6.75, 0.95, 3.0, 0.35, 3.0, 0.5, 65.0, 26.0, None, None, None), ('6111035000058', 116.0, 1061.0, 6.75, 0.95, 3.0, 0.35, 3.0, 0.5, 65.0, 26.0, None, None, None), ('3274080005003', 0.0, 0.0, 0.0, 0.0, 0.0, 0.0, 0.0, 0.0, 52.5, 21.0, None, None, None), ('50184453', 260.0, 1100.0, 30.0, 1.2, 0.5, 0.1, 34.0, 0.5, 10.8, 4.32, None, None, None), ('6111035001635', 0.0, 1061.0, 0.0, 0.0, 0.0, 0.0, 0.0, 0.5, 120.0, 48.0, None, None, None), ('6111184001562', 116.0, 1061.0, 0.0, 0.0, 0.0, 0.0, 0.0, 0.0, 99.0, 39.6, None, None, None), ('6111035003004', 0.0, 1061.0, 0.0, 0.0, 0.0, 0.0, 0.0, 0.0, 783.75, 313.5, None, None, None), ('3057640257773', 0.0, 1061.0, 0.0, 0.0, 0.0, 0.0, 0.0, 0.0, 30.0, 12.0, None, None, None)]\n"
     ]
    }
   ],
   "source": [
    "#5️⃣ Products with sodium_value > 1g\n",
    "stmt = select(nutrient_info).where(nutrient_info.c.sodium_value > 1)\n",
    "result = engine.execute(stmt).all()\n",
    "print(\"Products with sodium > 1g:\\n\", result)"
   ]
  },
  {
   "cell_type": "code",
   "execution_count": 205,
   "id": "0f510fb3-777e-405f-91f3-e28eaf4b56f7",
   "metadata": {},
   "outputs": [
    {
     "name": "stdout",
     "output_type": "stream",
     "text": [
      "Products with fruits/vegetables/nuts > 0: 0\n"
     ]
    }
   ],
   "source": [
    "\n",
    "#6️⃣ Count products with non-zero fruits-vegetables-nuts content\n",
    "stmt = select(func.count()).where(nutrient_info.c.fruits_vegetables_nuts_100g > 0)\n",
    "result = engine.execute(stmt).scalar()\n",
    "print(\"Products with fruits/vegetables/nuts > 0:\", result)\n"
   ]
  },
  {
   "cell_type": "code",
   "execution_count": 206,
   "id": "6a03a9df-75e7-4fed-94be-9bd17e65c18a",
   "metadata": {},
   "outputs": [
    {
     "name": "stdout",
     "output_type": "stream",
     "text": [
      "Products with calories > 500:\n",
      " [('6111099003897', 675.0, 1061.0, 0.2, 0.0, 75.0, 34.0, 0.1, 0.0, 0.5, 0.2, None, None, None), ('3046920029759', 592.0, 1061.0, 14.0, 2.0, 55.0, 10.0, 10.0, 5.0, 0.09875, 0.0395, None, None, None), ('3046920028004', 566.0, 2350.0, 34.0, 30.0, 41.0, 24.0, 9.5, 0.5, 0.1, 0.04, None, None, None), ('3017620425035', 539.0, 2252.0, 57.5, 56.3, 30.9, 10.6, 6.3, 0.5, 0.107, 0.0428, None, None, None), ('3046920028363', 584.0, 2418.0, 22.0, 14.0, 46.0, 27.0, 12.5, 0.5, 0.02, 0.008, None, None, None), ('6111184004129', 592.0, 2435.4, 0.22, 0.05, 65.21, 9.8, 1.12, 0.5, 1.75, 0.7, None, None, None), ('20995553', 579.0, 2395.0, 21.4, 12.9, 46.8, 28.2, 10.8, 0.5, 0.03, 0.012, None, None, None), ('3017620422003', 539.0, 2252.0, 57.5, 56.3, 30.9, 10.6, 6.3, 0.5, 0.107, 0.0428, None, None, None), ('20005733', 712.0, 2981.0, 3.7, 3.0, 69.1, 6.8, 15.5, 6.8, 0.02, 0.008, None, None, None), ('20724696', 621.0, 1061.0, 4.67, 4.67, 53.3, 4.33, 24.7, 12.0, 0.01, 0.004, None, None, None), ('20267605', 600.0, 1061.0, 19.8, 6.5, 47.6, 9.0, 20.5, 5.2, 5e-05, 2e-05, None, None, None), ('8425197712024', 539.0, 1061.0, 53.0, 50.0, 33.0, 25.0, 7.2, 0.5, 0.275, 0.11, None, None, None), ('5740900404465', 679.0, 1061.0, 0.6, 0.6, 75.0, 35.0, 0.5, 0.0, 0.885, 0.354, None, None, None), ('7622210578464', 580.0, 2428.0, 36.0, 29.0, 42.0, 25.0, 9.1, 10.0, 0.01, 0.004, None, None, None), ('20047238', 646.0, 2705.0, 6.4, 4.2, 58.0, 6.4, 20.4, 8.5, 0.01, 0.004, None, None, None), ('6111203001467', 635.0, 2659.0, 0.7, 0.0, 70.0, 0.0, 1.0, 0.0, 0.7, 0.28, None, None, None), ('3046920022651', 566.0, 2350.0, 35.0, 30.0, 41.0, 24.0, 9.5, 0.5, 0.02, 0.008, None, None, None), ('6111037000599', 532.0, 2224.0, 0.2, 0.0, 60.0, 21.0, 0.2, 5.0, 0.0, 0.0, None, None, None), ('8052575090230', 544.0, 2270.0, 54.0, 51.0, 32.0, 5.7, 8.1, 3.6, 0.12, 0.048, None, None, None), ('3608580065340', 551.0, 2299.0, 53.0, 51.0, 34.0, 5.2, 6.7, 3.3, 0.1, 0.04, None, None, None), ('7622210584724', 607.0, 2512.0, 24.0, 0.0, 50.0, 0.0, 10.0, 0.0, 0.0, 0.0, None, None, None), ('3046920022606', 584.0, 2418.0, 22.0, 15.0, 46.0, 27.0, 12.5, 0.0, 0.02, 0.008, None, None, None)]\n"
     ]
    }
   ],
   "source": [
    "#7️⃣ Products with energy-kcal_value > 500\n",
    "stmt = select(nutrient_info).where(nutrient_info.c.energy_kcal_value > 500)\n",
    "result = engine.execute(stmt).all()\n",
    "print(\"Products with calories > 500:\\n\", result)\n"
   ]
  },
  {
   "cell_type": "code",
   "execution_count": 207,
   "id": "2a1afbaf-f3c9-4315-8b5e-be8ef47c51ac",
   "metadata": {},
   "outputs": [
    {
     "name": "stdout",
     "output_type": "stream",
     "text": [
      "Products per calorie category:\n",
      " [('High', 35), ('Low', 46), ('Medium', 19)]\n"
     ]
    }
   ],
   "source": [
    "#📑 Queries on derived_metrics\n",
    "#1️⃣ Count products per calorie_category\n",
    "stmt = select(derived_metrics.c.calorie_category, func.count().label(\"count\")).group_by(derived_metrics.c.calorie_category)\n",
    "result = engine.execute(stmt).all()\n",
    "print(\"Products per calorie category:\\n\", result)\n"
   ]
  },
  {
   "cell_type": "code",
   "execution_count": 208,
   "id": "5a439128-5278-4f8d-9ca0-8607a8a5a932",
   "metadata": {},
   "outputs": [
    {
     "name": "stdout",
     "output_type": "stream",
     "text": [
      "Number of High Sugar products: 21\n"
     ]
    }
   ],
   "source": [
    "#2️⃣ Count of High Sugar products\n",
    "stmt = select(func.count()).where(derived_metrics.c.sugar_category == \"High\")\n",
    "result = engine.execute(stmt).scalar()\n",
    "print(\"Number of High Sugar products:\", result)\n"
   ]
  },
  {
   "cell_type": "code",
   "execution_count": 209,
   "id": "c30f0194-0234-4497-8544-e0fc1821d1f6",
   "metadata": {},
   "outputs": [
    {
     "name": "stdout",
     "output_type": "stream",
     "text": [
      "Average sugar-to-carb ratio for High Calorie products: 0.49715655940997794\n"
     ]
    }
   ],
   "source": [
    "#3️⃣ Average sugar_to_carb_ratio for High Calorie products\n",
    "stmt = select(func.avg(derived_metrics.c.sugar_to_carb_ratio)).where(derived_metrics.c.calorie_category == \"High\")\n",
    "result = engine.execute(stmt).scalar()\n",
    "print(\"Average sugar-to-carb ratio for High Calorie products:\", result)\n"
   ]
  },
  {
   "cell_type": "code",
   "execution_count": 210,
   "id": "fefb9e38-7d95-4f30-9bf7-902afa72f00b",
   "metadata": {},
   "outputs": [
    {
     "name": "stdout",
     "output_type": "stream",
     "text": [
      "Products that are both High Calorie and High Sugar:\n",
      " [('7622210449283', 0.463768115942029, 'High', 'High', 'Yes'), ('3046920028004', 0.8823529411764706, 'High', 'High', 'Yes'), ('3017620425035', 0.9791304347826086, 'High', 'High', 'Yes'), ('6111031005064', 0.5575757575757575, 'High', 'High', 'No'), ('3175680011480', 0.265625, 'High', 'High', 'Yes'), ('3017620422003', 0.9791304347826086, 'High', 'High', 'Yes'), ('6111029000118', 1.0, 'High', 'High', 'Yes'), ('3362600011044', 0.31692310508875304, 'High', 'High', 'Yes'), ('8425197712024', 0.9433962264150944, 'High', 'High', 'Yes'), ('7622210578464', 0.8055555555555556, 'High', 'High', 'Yes'), ('6111259343108', 0.5203252032520326, 'High', 'High', 'Yes'), ('3362600011228', 0.3225806451612903, 'High', 'High', 'Yes'), ('3046920022651', 0.8571428571428571, 'High', 'High', 'Yes'), ('8052575090230', 0.9444444444444444, 'High', 'High', 'Yes'), ('3608580065340', 0.9622641509433962, 'High', 'High', 'Yes'), ('3046920022606', 0.6818181818181818, 'High', 'High', 'Yes'), ('3229820100234', 0.4153846153846154, 'High', 'High', 'Yes')]\n"
     ]
    }
   ],
   "source": [
    "#4️⃣ Products that are both High Calorie and High Sugar\n",
    "stmt = select(derived_metrics).where(\n",
    "    (derived_metrics.c.calorie_category == \"High\") &\n",
    "    (derived_metrics.c.sugar_category == \"High\")\n",
    ")\n",
    "result = engine.execute(stmt).all()\n",
    "print(\"Products that are both High Calorie and High Sugar:\\n\", result)\n"
   ]
  },
  {
   "cell_type": "code",
   "execution_count": 211,
   "id": "6c391ed4-39bf-4149-9ece-d8bc10e692e3",
   "metadata": {},
   "outputs": [
    {
     "name": "stdout",
     "output_type": "stream",
     "text": [
      "Ultra-processed products: 75\n"
     ]
    }
   ],
   "source": [
    "#5️⃣ Number of products marked as ultra-processed\n",
    "stmt = select(func.count()).where(derived_metrics.c.is_ultra_processed == \"Yes\")\n",
    "result = engine.execute(stmt).scalar()\n",
    "print(\"Ultra-processed products:\", result)\n"
   ]
  },
  {
   "cell_type": "code",
   "execution_count": 212,
   "id": "e7180e24-cf78-4b3a-9103-8a151223d9c5",
   "metadata": {},
   "outputs": [
    {
     "name": "stdout",
     "output_type": "stream",
     "text": [
      "Products with sugar-to-carb ratio > 0.7:\n",
      " [('5449000054227', 1.0, 'Low', 'Medium', 'Yes'), ('3046920028004', 0.8823529411764706, 'High', 'High', 'Yes'), ('3017620425035', 0.9791304347826086, 'High', 'High', 'Yes'), ('5449000147417', 1.8279569892473118, 'Low', 'High', 'Yes'), ('6111162000839', 1.0272297407467796, 'Medium', 'High', 'Yes'), ('3017620422003', 0.9791304347826086, 'High', 'High', 'Yes'), ('20005733', 0.8108108108108107, 'High', 'Low', 'No'), ('6111203006653', 1.0, 'Medium', 'Medium', 'Yes'), ('20724696', 1.0, 'High', 'Low', 'No'), ('6111184004730', 0.8700389105058366, 'Low', 'High', 'Yes'), ('6111029000118', 1.0, 'High', 'High', 'Yes'), ('5449000214911', 1.0, 'Low', 'Medium', 'Yes'), ('8425197712024', 0.9433962264150944, 'High', 'High', 'Yes'), ('5740900404465', 1.0, 'High', 'Low', 'No'), ('7622210578464', 0.8055555555555556, 'High', 'High', 'Yes'), ('6111032006619', 0.7258064516129032, 'Low', 'Medium', 'Yes'), ('6111252421575', 1.0, 'Low', 'Low', 'No'), ('3046920022651', 0.8571428571428571, 'High', 'High', 'Yes'), ('6111184001661', 1.0, 'Low', 'Low', 'No'), ('8052575090230', 0.9444444444444444, 'High', 'High', 'Yes'), ('3608580065340', 0.9622641509433962, 'High', 'High', 'Yes'), ('6111162001218', 1.0, 'Medium', 'Low', 'Yes'), ('6111184001074', 0.9841269841269841, 'Medium', 'High', 'Yes')]\n"
     ]
    }
   ],
   "source": [
    "#6️⃣ Products with sugar_to_carb_ratio > 0.7\n",
    "stmt = select(derived_metrics).where(derived_metrics.c.sugar_to_carb_ratio > 0.7)\n",
    "result = engine.execute(stmt).all()\n",
    "print(\"Products with sugar-to-carb ratio > 0.7:\\n\", result)\n"
   ]
  },
  {
   "cell_type": "code",
   "execution_count": 213,
   "id": "13124106-b415-42bc-9045-f751391f977c",
   "metadata": {},
   "outputs": [
    {
     "name": "stdout",
     "output_type": "stream",
     "text": [
      "[('High', 0.49715655940997794), ('Low', 0.2565273511610048), ('Medium', 0.27874848608953207)]\n"
     ]
    }
   ],
   "source": [
    "#7️⃣ Average sugar_to_carb_ratio per calorie_category\n",
    "stmt = select(\n",
    "    derived_metrics.c.calorie_category,\n",
    "    func.avg(derived_metrics.c.sugar_to_carb_ratio).label(\"avg_ratio\")\n",
    ").group_by(derived_metrics.c.calorie_category)\n",
    "result = engine.execute(stmt).all()\n",
    "print(result)\n"
   ]
  },
  {
   "cell_type": "code",
   "execution_count": 214,
   "id": "f46585f0-ec9e-44aa-88da-e48d5d8fbfab",
   "metadata": {},
   "outputs": [
    {
     "name": "stdout",
     "output_type": "stream",
     "text": [
      "Top 5 brands with most High Calorie products:\n",
      " [('lindt', 4), (\"henry's\", 2), ('ferrero', 2), ('alesto,lidl', 2), ('weetabix', 1)]\n"
     ]
    }
   ],
   "source": [
    "#📑 Join Queries\n",
    "#1️⃣ Top 5 brands with most High Calorie products\n",
    "stmt = (\n",
    "    select(product_info.c.brand, func.count().label(\"count\"))\n",
    "    .select_from(\n",
    "        product_info.join(\n",
    "            derived_metrics,\n",
    "            product_info.c.product_code == derived_metrics.c.product_code\n",
    "        )\n",
    "    )\n",
    "    .where(derived_metrics.c.calorie_category == \"High\")  # <-- correct label\n",
    "    .group_by(product_info.c.brand)\n",
    "    .order_by(func.count().desc())\n",
    "    .limit(5)\n",
    ")\n",
    "\n",
    "with engine.begin() as conn:\n",
    "    result = conn.execute(stmt).all()\n",
    "\n",
    "print(\"Top 5 brands with most High Calorie products:\\n\", result)\n"
   ]
  },
  {
   "cell_type": "code",
   "execution_count": 215,
   "id": "a9e4b17c-8226-48c2-bedd-3bff936397df",
   "metadata": {},
   "outputs": [
    {
     "name": "stdout",
     "output_type": "stream",
     "text": [
      "Average kcal per calorie category:\n",
      " [('High', 513.6), ('Low', 37.25869565217391), ('Medium', 175.47368421052633)]\n"
     ]
    }
   ],
   "source": [
    "#2️⃣ Average energy-kcal_value for each calorie_category\n",
    "stmt = (\n",
    "    select(derived_metrics.c.calorie_category, func.avg(nutrient_info.c.energy_kcal_value))\n",
    "    .select_from(nutrient_info.join(derived_metrics, nutrient_info.c.product_code == derived_metrics.c.product_code))\n",
    "    .group_by(derived_metrics.c.calorie_category)\n",
    ")\n",
    "result = engine.execute(stmt).all()\n",
    "print(\"Average kcal per calorie category:\\n\", result)\n"
   ]
  },
  {
   "cell_type": "code",
   "execution_count": 216,
   "id": "3b67054e-59ef-4a40-aa1d-a22d8e28b464",
   "metadata": {},
   "outputs": [
    {
     "name": "stdout",
     "output_type": "stream",
     "text": [
      "Ultra-processed products per brand:\n",
      " [('8dh', 1), ('ain atlas', 1), ('alesto, 16 x lidl 10.25, lidl, lidl alesto, 14 x lidl 10.25', 1), ('alpro', 2), ('aquafina', 1), ('bjorg', 1), ('bonne maman', 1), ('ciel', 1), ('coca cola', 1), ('coca-cola', 3), ('cosumar', 1), ('danone', 3), ('délicia', 1), ('eau minérale naturelle', 1), (\"eau minérale naturelle des montagnes d'atlas\", 1), ('el baraka', 1), ('excelo', 1), ('ferrero', 2), ('gerblé', 1), ('gervais', 1), (\"green & black's\", 1), ('green and black', 1), ('gullón', 1), ('heinz', 1), (\"henry's\", 2), ('j.d. gross', 1), ('jaouda', 5), (\"jason's\", 2), ('jason’s', 1), ('jibal', 1), ('joly', 1), ('la hollandaise', 1), ('la prairie', 1), (\"les eaux minérales d'oulmès s.a.\", 1), ('lilia', 1), ('lindt', 4), ('lindt&sprüngli', 1), ('lu', 1), ('marmite,unilever', 1), ('maruja', 1), ('milky food professional', 1), ('nestlé', 1), ('oatly', 1), ('original', 1), ('oulmès', 1), ('primevère', 1), ('rigoni di asiago', 1), ('sidi ali', 3), ('solis', 1), ('sos', 1), ('star', 2), (\"tyrrell's\", 1), ('unknown', 2), ('wasa', 1), ('weetabix', 1), ('سلطان', 1)]\n"
     ]
    }
   ],
   "source": [
    "#3️⃣ Count of ultra-processed products per brand\n",
    "stmt = (\n",
    "    select(product_info.c.brand, func.count().label(\"count\"))\n",
    "    .select_from(product_info.join(derived_metrics, product_info.c.product_code == derived_metrics.c.product_code))\n",
    "    .where(derived_metrics.c.is_ultra_processed == \"Yes\")\n",
    "    .group_by(product_info.c.brand)\n",
    ")\n",
    "result = engine.execute(stmt).all()\n",
    "print(\"Ultra-processed products per brand:\\n\", result)"
   ]
  },
  {
   "cell_type": "code",
   "execution_count": 219,
   "id": "4ed6a4b1-dceb-4e78-bf0f-0ff9876590ed",
   "metadata": {},
   "outputs": [
    {
     "name": "stdout",
     "output_type": "stream",
     "text": [
      "Raw count of products with kcal >200 and sugar >20: 15\n"
     ]
    }
   ],
   "source": [
    "from sqlalchemy import select\n",
    "\n",
    "# Example: count products with kcal > 200 and sugar > 20\n",
    "stmt = select([func.count()]).where(\n",
    "    (nutrient_info.c.energy_kcal_value > 200) &\n",
    "    (nutrient_info.c.sugars_value > 20)\n",
    ")\n",
    "\n",
    "with engine.connect() as conn:\n",
    "    count = conn.execute(stmt).scalar()\n",
    "\n",
    "print(\"Raw count of products with kcal >200 and sugar >20:\", count)"
   ]
  },
  {
   "cell_type": "code",
   "execution_count": 220,
   "id": "ddc0e409-61e1-49f4-a524-aaf48dfdd67e",
   "metadata": {},
   "outputs": [
    {
     "name": "stdout",
     "output_type": "stream",
     "text": [
      "High Calorie & High Sugar products with brand:\n",
      " [('Prince Goût Chocolat', 'lu'), ('Excellence 70% Cocoa Intense Dark', 'lindt'), ('Nutella', 'ferrero'), ('Tonik', 'bimo'), ('Sésame', 'gerblé'), ('Nutella', 'ferrero'), ('Cosumar Sucre En Lingot Pour Le Thé 1 kg', 'cosumar'), ('Henry’s', \"henry's\"), ('unknown', 'maruja'), ('Organic 70% Dark Chocolate Bar', \"green & black's\"), ('KING COOKIES', 'excelo'), ('Sable coco Henry s 42g', \"henry's\"), ('Excellence Noir Intense 70% Cacao', 'lindt'), ('Nocciolata', 'rigoni di asiago'), ('Pâte à tartiner noisettes et cacao', 'bonne maman'), ('Excellence Noir Puissant 85% Cacao', 'lindt'), ('Fourrés Chocolat Noir', 'bjorg')]\n"
     ]
    }
   ],
   "source": [
    "#4️⃣ Products with High Sugar and High Calorie along with brand\n",
    "stmt = (\n",
    "    select(product_info.c.product_name, product_info.c.brand)\n",
    "    .select_from(product_info.join(derived_metrics, product_info.c.product_code == derived_metrics.c.product_code))\n",
    "    .where(\n",
    "        (derived_metrics.c.calorie_category == \"High\") &\n",
    "        (derived_metrics.c.sugar_category == \"High\")\n",
    "    )\n",
    ")\n",
    "result = engine.execute(stmt).all()\n",
    "print(\"High Calorie & High Sugar products with brand:\\n\", result)"
   ]
  },
  {
   "cell_type": "code",
   "execution_count": 221,
   "id": "3540a6a3-4de3-45b6-b257-1baaa1e9306d",
   "metadata": {},
   "outputs": [
    {
     "name": "stdout",
     "output_type": "stream",
     "text": [
      "Average sugar per brand (ultra-processed):\n",
      " [('8dh', 0.16), ('ain atlas', 0.0), ('alesto, 16 x lidl 10.25, lidl, lidl alesto, 14 x lidl 10.25', 6.5), ('alpro', 0.0), ('aquafina', 0.0), ('bjorg', 27.0), ('bonne maman', 51.0), ('ciel', 0.0), ('coca cola', 17.0), ('coca-cola', 7.066666666666666), ('cosumar', 100.0), ('danone', 6.0), ('délicia', 63.0), ('eau minérale naturelle', 0.0), (\"eau minérale naturelle des montagnes d'atlas\", 0.95), ('el baraka', 62.0), ('excelo', 32.0), ('ferrero', 56.3), ('gerblé', 17.0), ('gervais', 7.2), (\"green & black's\", 29.0), ('green and black', 0.0), ('gullón', 0.5), ('heinz', 4.3), (\"henry's\", 17.117649999999998), ('j.d. gross', 12.9), ('jaouda', 0.5900000000000001), (\"jason's\", 0.8), ('jason’s', 2.4), ('jibal', 3.5), ('joly', 0.6), ('la hollandaise', 6.0), ('la prairie', 0.0), (\"les eaux minérales d'oulmès s.a.\", 0.95), ('lilia', 0.0), ('lindt', 22.25), ('lindt&sprüngli', 2.0), ('lu', 32.0), ('marmite,unilever', 1.2), ('maruja', 50.0), ('milky food professional', 0.0), ('nestlé', 0.95), ('oatly', 3.4), ('original', 0.0), ('oulmès', 0.0), ('primevère', 0.0), ('rigoni di asiago', 51.0), ('sidi ali', 4.983333333333333), ('solis', 2.2), ('sos', 2.3), ('star', 11.205), (\"tyrrell's\", 0.64), ('unknown', 0.0), ('wasa', 1.0), ('weetabix', 1.6), ('سلطان', 0.0)]\n"
     ]
    }
   ],
   "source": [
    "#5️⃣ Average sugar content per brand for ultra-processed products\n",
    "stmt = (\n",
    "    select(product_info.c.brand, func.avg(nutrient_info.c.sugars_value).label(\"avg_sugar\"))\n",
    "    .select_from(\n",
    "        product_info.join(nutrient_info, product_info.c.product_code == nutrient_info.c.product_code)\n",
    "                    .join(derived_metrics, product_info.c.product_code == derived_metrics.c.product_code)\n",
    "    )\n",
    "    .where(derived_metrics.c.is_ultra_processed == \"Yes\")\n",
    "    .group_by(product_info.c.brand)\n",
    ")\n",
    "result = engine.execute(stmt).all()\n",
    "print(\"Average sugar per brand (ultra-processed):\\n\", result)"
   ]
  },
  {
   "cell_type": "code",
   "execution_count": 222,
   "id": "06cbd210-0d57-4ec9-8aae-59d65949b0bc",
   "metadata": {},
   "outputs": [
    {
     "name": "stdout",
     "output_type": "stream",
     "text": [
      "Products with fruits/vegetables/nuts > 0 per calorie category:\n",
      " []\n"
     ]
    }
   ],
   "source": [
    "#6️⃣ Number of products with fruits/vegetables/nuts content in each calorie_category\n",
    "stmt = (\n",
    "    select(derived_metrics.c.calorie_category, func.count().label(\"count\"))\n",
    "    .select_from(nutrient_info.join(derived_metrics, nutrient_info.c.product_code == derived_metrics.c.product_code))\n",
    "    .where(nutrient_info.c.fruits_vegetables_nuts_100g > 0)\n",
    "    .group_by(derived_metrics.c.calorie_category)\n",
    ")\n",
    "result = engine.execute(stmt).all()\n",
    "print(\"Products with fruits/vegetables/nuts > 0 per calorie category:\\n\", result)\n"
   ]
  },
  {
   "cell_type": "code",
   "execution_count": 223,
   "id": "11e00832-e68e-46f8-aa8a-628f669f6888",
   "metadata": {},
   "outputs": [
    {
     "name": "stdout",
     "output_type": "stream",
     "text": [
      "Top 5 products by sugar-to-carb ratio:\n",
      " [('Orange juice', 1.8279569892473118, 'Low', 'High'), ('Confiture de fraise', 1.0272297407467796, 'Medium', 'High'), ('Original Taste', 1.0, 'Low', 'Medium'), ('Cheddar', 1.0, 'Medium', 'Medium'), ('Mandeln', 1.0, 'High', 'Low')]\n"
     ]
    }
   ],
   "source": [
    "#7️⃣ Top 5 products by sugar_to_carb_ratio with their calorie and sugar category\n",
    "stmt = (\n",
    "    select(\n",
    "        product_info.c.product_name,\n",
    "        derived_metrics.c.sugar_to_carb_ratio,\n",
    "        derived_metrics.c.calorie_category,\n",
    "        derived_metrics.c.sugar_category\n",
    "    )\n",
    "    .select_from(product_info.join(derived_metrics, product_info.c.product_code == derived_metrics.c.product_code))\n",
    "    .order_by(derived_metrics.c.sugar_to_carb_ratio.desc())\n",
    "    .limit(5)\n",
    ")\n",
    "result = engine.execute(stmt).all()\n",
    "print(\"Top 5 products by sugar-to-carb ratio:\\n\", result)\n"
   ]
  },
  {
   "cell_type": "code",
   "execution_count": null,
   "id": "91c9a1d0-e224-4e85-a02a-bb487c1effc8",
   "metadata": {},
   "outputs": [],
   "source": []
  },
  {
   "cell_type": "code",
   "execution_count": null,
   "id": "0f92426d-30df-485b-aaed-07f8a84826b8",
   "metadata": {},
   "outputs": [],
   "source": []
  },
  {
   "cell_type": "code",
   "execution_count": null,
   "id": "f1d3104d-9782-486a-bc17-c4914e0a3656",
   "metadata": {},
   "outputs": [],
   "source": []
  },
  {
   "cell_type": "code",
   "execution_count": null,
   "id": "bed66196-de93-4471-b45d-8255d16cb94a",
   "metadata": {},
   "outputs": [],
   "source": []
  },
  {
   "cell_type": "code",
   "execution_count": null,
   "id": "7e56da6c-a2dd-40ee-be7c-c8308a4318ee",
   "metadata": {},
   "outputs": [],
   "source": []
  },
  {
   "cell_type": "code",
   "execution_count": null,
   "id": "9d6d545b-9a8c-452d-8502-2bafa69dbb6f",
   "metadata": {},
   "outputs": [],
   "source": []
  },
  {
   "cell_type": "code",
   "execution_count": 75,
   "id": "383111c7-b124-49ce-9d89-4bec0b61f884",
   "metadata": {},
   "outputs": [
    {
     "data": {
      "text/plain": [
       "76"
      ]
     },
     "execution_count": 75,
     "metadata": {},
     "output_type": "execute_result"
    }
   ],
   "source": [
    "df1.brands.nunique()"
   ]
  },
  {
   "cell_type": "code",
   "execution_count": 20,
   "id": "1704b3c1-d059-4882-bfa8-195b8139eb67",
   "metadata": {},
   "outputs": [
    {
     "data": {
      "text/plain": [
       "brands          1\n",
       "code            1\n",
       "nutriments      1\n",
       "product_name    1\n",
       "dtype: int64"
      ]
     },
     "execution_count": 20,
     "metadata": {},
     "output_type": "execute_result"
    }
   ],
   "source": [
    "df1.map(type).nunique()"
   ]
  },
  {
   "cell_type": "code",
   "execution_count": 10,
   "id": "8210e54d-0622-4f20-9eeb-dad605398331",
   "metadata": {},
   "outputs": [
    {
     "data": {
      "text/html": [
       "<div>\n",
       "<style scoped>\n",
       "    .dataframe tbody tr th:only-of-type {\n",
       "        vertical-align: middle;\n",
       "    }\n",
       "\n",
       "    .dataframe tbody tr th {\n",
       "        vertical-align: top;\n",
       "    }\n",
       "\n",
       "    .dataframe thead th {\n",
       "        text-align: right;\n",
       "    }\n",
       "</style>\n",
       "<table border=\"1\" class=\"dataframe\">\n",
       "  <thead>\n",
       "    <tr style=\"text-align: right;\">\n",
       "      <th></th>\n",
       "      <th>carbohydrates</th>\n",
       "      <th>carbohydrates_100g</th>\n",
       "      <th>carbohydrates_serving</th>\n",
       "      <th>carbohydrates_unit</th>\n",
       "      <th>carbohydrates_value</th>\n",
       "      <th>energy</th>\n",
       "      <th>energy-kcal</th>\n",
       "      <th>energy-kcal_100g</th>\n",
       "      <th>energy-kcal_serving</th>\n",
       "      <th>energy-kcal_unit</th>\n",
       "      <th>...</th>\n",
       "      <th>omega-6-fat_100g</th>\n",
       "      <th>omega-6-fat_label</th>\n",
       "      <th>omega-6-fat_unit</th>\n",
       "      <th>omega-6-fat_value</th>\n",
       "      <th>omega-9-fat</th>\n",
       "      <th>omega-9-fat_100g</th>\n",
       "      <th>omega-9-fat_label</th>\n",
       "      <th>omega-9-fat_unit</th>\n",
       "      <th>omega-9-fat_value</th>\n",
       "      <th>proteins_modifier</th>\n",
       "    </tr>\n",
       "  </thead>\n",
       "  <tbody>\n",
       "    <tr>\n",
       "      <th>0</th>\n",
       "      <td>42.0</td>\n",
       "      <td>4.2</td>\n",
       "      <td>42.0</td>\n",
       "      <td>g</td>\n",
       "      <td>42.0</td>\n",
       "      <td>20.0</td>\n",
       "      <td>0.0</td>\n",
       "      <td>0.0</td>\n",
       "      <td>0.0</td>\n",
       "      <td>kcal</td>\n",
       "      <td>...</td>\n",
       "      <td>NaN</td>\n",
       "      <td>NaN</td>\n",
       "      <td>NaN</td>\n",
       "      <td>NaN</td>\n",
       "      <td>NaN</td>\n",
       "      <td>NaN</td>\n",
       "      <td>NaN</td>\n",
       "      <td>NaN</td>\n",
       "      <td>NaN</td>\n",
       "      <td>NaN</td>\n",
       "    </tr>\n",
       "    <tr>\n",
       "      <th>1</th>\n",
       "      <td>9.4</td>\n",
       "      <td>9.4</td>\n",
       "      <td>9.4</td>\n",
       "      <td>g</td>\n",
       "      <td>9.4</td>\n",
       "      <td>406.0</td>\n",
       "      <td>97.0</td>\n",
       "      <td>97.0</td>\n",
       "      <td>97.0</td>\n",
       "      <td>kcal</td>\n",
       "      <td>...</td>\n",
       "      <td>NaN</td>\n",
       "      <td>NaN</td>\n",
       "      <td>NaN</td>\n",
       "      <td>NaN</td>\n",
       "      <td>NaN</td>\n",
       "      <td>NaN</td>\n",
       "      <td>NaN</td>\n",
       "      <td>NaN</td>\n",
       "      <td>NaN</td>\n",
       "      <td>NaN</td>\n",
       "    </tr>\n",
       "    <tr>\n",
       "      <th>2</th>\n",
       "      <td>NaN</td>\n",
       "      <td>NaN</td>\n",
       "      <td>NaN</td>\n",
       "      <td>NaN</td>\n",
       "      <td>NaN</td>\n",
       "      <td>NaN</td>\n",
       "      <td>NaN</td>\n",
       "      <td>NaN</td>\n",
       "      <td>NaN</td>\n",
       "      <td>NaN</td>\n",
       "      <td>...</td>\n",
       "      <td>NaN</td>\n",
       "      <td>NaN</td>\n",
       "      <td>NaN</td>\n",
       "      <td>NaN</td>\n",
       "      <td>NaN</td>\n",
       "      <td>NaN</td>\n",
       "      <td>NaN</td>\n",
       "      <td>NaN</td>\n",
       "      <td>NaN</td>\n",
       "      <td>NaN</td>\n",
       "    </tr>\n",
       "    <tr>\n",
       "      <th>3</th>\n",
       "      <td>NaN</td>\n",
       "      <td>NaN</td>\n",
       "      <td>NaN</td>\n",
       "      <td>NaN</td>\n",
       "      <td>NaN</td>\n",
       "      <td>NaN</td>\n",
       "      <td>NaN</td>\n",
       "      <td>NaN</td>\n",
       "      <td>NaN</td>\n",
       "      <td>NaN</td>\n",
       "      <td>...</td>\n",
       "      <td>NaN</td>\n",
       "      <td>NaN</td>\n",
       "      <td>NaN</td>\n",
       "      <td>NaN</td>\n",
       "      <td>NaN</td>\n",
       "      <td>NaN</td>\n",
       "      <td>NaN</td>\n",
       "      <td>NaN</td>\n",
       "      <td>NaN</td>\n",
       "      <td>NaN</td>\n",
       "    </tr>\n",
       "    <tr>\n",
       "      <th>4</th>\n",
       "      <td>0.0</td>\n",
       "      <td>0.0</td>\n",
       "      <td>0.0</td>\n",
       "      <td>g</td>\n",
       "      <td>0.0</td>\n",
       "      <td>0.0</td>\n",
       "      <td>0.0</td>\n",
       "      <td>0.0</td>\n",
       "      <td>0.0</td>\n",
       "      <td>kcal</td>\n",
       "      <td>...</td>\n",
       "      <td>NaN</td>\n",
       "      <td>NaN</td>\n",
       "      <td>NaN</td>\n",
       "      <td>NaN</td>\n",
       "      <td>NaN</td>\n",
       "      <td>NaN</td>\n",
       "      <td>NaN</td>\n",
       "      <td>NaN</td>\n",
       "      <td>NaN</td>\n",
       "      <td>NaN</td>\n",
       "    </tr>\n",
       "    <tr>\n",
       "      <th>...</th>\n",
       "      <td>...</td>\n",
       "      <td>...</td>\n",
       "      <td>...</td>\n",
       "      <td>...</td>\n",
       "      <td>...</td>\n",
       "      <td>...</td>\n",
       "      <td>...</td>\n",
       "      <td>...</td>\n",
       "      <td>...</td>\n",
       "      <td>...</td>\n",
       "      <td>...</td>\n",
       "      <td>...</td>\n",
       "      <td>...</td>\n",
       "      <td>...</td>\n",
       "      <td>...</td>\n",
       "      <td>...</td>\n",
       "      <td>...</td>\n",
       "      <td>...</td>\n",
       "      <td>...</td>\n",
       "      <td>...</td>\n",
       "      <td>...</td>\n",
       "    </tr>\n",
       "    <tr>\n",
       "      <th>11995</th>\n",
       "      <td>8.7</td>\n",
       "      <td>8.7</td>\n",
       "      <td>NaN</td>\n",
       "      <td>g</td>\n",
       "      <td>8.7</td>\n",
       "      <td>303.0</td>\n",
       "      <td>73.0</td>\n",
       "      <td>73.0</td>\n",
       "      <td>NaN</td>\n",
       "      <td>kcal</td>\n",
       "      <td>...</td>\n",
       "      <td>NaN</td>\n",
       "      <td>NaN</td>\n",
       "      <td>NaN</td>\n",
       "      <td>NaN</td>\n",
       "      <td>NaN</td>\n",
       "      <td>NaN</td>\n",
       "      <td>NaN</td>\n",
       "      <td>NaN</td>\n",
       "      <td>NaN</td>\n",
       "      <td>NaN</td>\n",
       "    </tr>\n",
       "    <tr>\n",
       "      <th>11996</th>\n",
       "      <td>0.0</td>\n",
       "      <td>0.0</td>\n",
       "      <td>0.0</td>\n",
       "      <td>g</td>\n",
       "      <td>0.0</td>\n",
       "      <td>0.0</td>\n",
       "      <td>0.0</td>\n",
       "      <td>0.0</td>\n",
       "      <td>0.0</td>\n",
       "      <td>kcal</td>\n",
       "      <td>...</td>\n",
       "      <td>NaN</td>\n",
       "      <td>NaN</td>\n",
       "      <td>NaN</td>\n",
       "      <td>NaN</td>\n",
       "      <td>NaN</td>\n",
       "      <td>NaN</td>\n",
       "      <td>NaN</td>\n",
       "      <td>NaN</td>\n",
       "      <td>NaN</td>\n",
       "      <td>NaN</td>\n",
       "    </tr>\n",
       "    <tr>\n",
       "      <th>11997</th>\n",
       "      <td>0.6</td>\n",
       "      <td>0.6</td>\n",
       "      <td>NaN</td>\n",
       "      <td>g</td>\n",
       "      <td>0.6</td>\n",
       "      <td>753.0</td>\n",
       "      <td>180.0</td>\n",
       "      <td>180.0</td>\n",
       "      <td>NaN</td>\n",
       "      <td>kcal</td>\n",
       "      <td>...</td>\n",
       "      <td>NaN</td>\n",
       "      <td>NaN</td>\n",
       "      <td>NaN</td>\n",
       "      <td>NaN</td>\n",
       "      <td>NaN</td>\n",
       "      <td>NaN</td>\n",
       "      <td>NaN</td>\n",
       "      <td>NaN</td>\n",
       "      <td>NaN</td>\n",
       "      <td>NaN</td>\n",
       "    </tr>\n",
       "    <tr>\n",
       "      <th>11998</th>\n",
       "      <td>65.0</td>\n",
       "      <td>65.0</td>\n",
       "      <td>32.5</td>\n",
       "      <td>g</td>\n",
       "      <td>65.0</td>\n",
       "      <td>2017.0</td>\n",
       "      <td>481.0</td>\n",
       "      <td>481.0</td>\n",
       "      <td>240.0</td>\n",
       "      <td>kcal</td>\n",
       "      <td>...</td>\n",
       "      <td>NaN</td>\n",
       "      <td>NaN</td>\n",
       "      <td>NaN</td>\n",
       "      <td>NaN</td>\n",
       "      <td>NaN</td>\n",
       "      <td>NaN</td>\n",
       "      <td>NaN</td>\n",
       "      <td>NaN</td>\n",
       "      <td>NaN</td>\n",
       "      <td>NaN</td>\n",
       "    </tr>\n",
       "    <tr>\n",
       "      <th>11999</th>\n",
       "      <td>63.0</td>\n",
       "      <td>63.0</td>\n",
       "      <td>NaN</td>\n",
       "      <td>g</td>\n",
       "      <td>63.0</td>\n",
       "      <td>1087.0</td>\n",
       "      <td>256.0</td>\n",
       "      <td>256.0</td>\n",
       "      <td>NaN</td>\n",
       "      <td>kcal</td>\n",
       "      <td>...</td>\n",
       "      <td>NaN</td>\n",
       "      <td>NaN</td>\n",
       "      <td>NaN</td>\n",
       "      <td>NaN</td>\n",
       "      <td>NaN</td>\n",
       "      <td>NaN</td>\n",
       "      <td>NaN</td>\n",
       "      <td>NaN</td>\n",
       "      <td>NaN</td>\n",
       "      <td>&lt;</td>\n",
       "    </tr>\n",
       "  </tbody>\n",
       "</table>\n",
       "<p>12000 rows × 385 columns</p>\n",
       "</div>"
      ],
      "text/plain": [
       "       carbohydrates  carbohydrates_100g  carbohydrates_serving  \\\n",
       "0               42.0                 4.2                   42.0   \n",
       "1                9.4                 9.4                    9.4   \n",
       "2                NaN                 NaN                    NaN   \n",
       "3                NaN                 NaN                    NaN   \n",
       "4                0.0                 0.0                    0.0   \n",
       "...              ...                 ...                    ...   \n",
       "11995            8.7                 8.7                    NaN   \n",
       "11996            0.0                 0.0                    0.0   \n",
       "11997            0.6                 0.6                    NaN   \n",
       "11998           65.0                65.0                   32.5   \n",
       "11999           63.0                63.0                    NaN   \n",
       "\n",
       "      carbohydrates_unit  carbohydrates_value  energy  energy-kcal  \\\n",
       "0                      g                 42.0    20.0          0.0   \n",
       "1                      g                  9.4   406.0         97.0   \n",
       "2                    NaN                  NaN     NaN          NaN   \n",
       "3                    NaN                  NaN     NaN          NaN   \n",
       "4                      g                  0.0     0.0          0.0   \n",
       "...                  ...                  ...     ...          ...   \n",
       "11995                  g                  8.7   303.0         73.0   \n",
       "11996                  g                  0.0     0.0          0.0   \n",
       "11997                  g                  0.6   753.0        180.0   \n",
       "11998                  g                 65.0  2017.0        481.0   \n",
       "11999                  g                 63.0  1087.0        256.0   \n",
       "\n",
       "       energy-kcal_100g  energy-kcal_serving energy-kcal_unit  ...  \\\n",
       "0                   0.0                  0.0             kcal  ...   \n",
       "1                  97.0                 97.0             kcal  ...   \n",
       "2                   NaN                  NaN              NaN  ...   \n",
       "3                   NaN                  NaN              NaN  ...   \n",
       "4                   0.0                  0.0             kcal  ...   \n",
       "...                 ...                  ...              ...  ...   \n",
       "11995              73.0                  NaN             kcal  ...   \n",
       "11996               0.0                  0.0             kcal  ...   \n",
       "11997             180.0                  NaN             kcal  ...   \n",
       "11998             481.0                240.0             kcal  ...   \n",
       "11999             256.0                  NaN             kcal  ...   \n",
       "\n",
       "       omega-6-fat_100g  omega-6-fat_label  omega-6-fat_unit  \\\n",
       "0                   NaN                NaN               NaN   \n",
       "1                   NaN                NaN               NaN   \n",
       "2                   NaN                NaN               NaN   \n",
       "3                   NaN                NaN               NaN   \n",
       "4                   NaN                NaN               NaN   \n",
       "...                 ...                ...               ...   \n",
       "11995               NaN                NaN               NaN   \n",
       "11996               NaN                NaN               NaN   \n",
       "11997               NaN                NaN               NaN   \n",
       "11998               NaN                NaN               NaN   \n",
       "11999               NaN                NaN               NaN   \n",
       "\n",
       "       omega-6-fat_value  omega-9-fat omega-9-fat_100g  omega-9-fat_label  \\\n",
       "0                    NaN          NaN              NaN                NaN   \n",
       "1                    NaN          NaN              NaN                NaN   \n",
       "2                    NaN          NaN              NaN                NaN   \n",
       "3                    NaN          NaN              NaN                NaN   \n",
       "4                    NaN          NaN              NaN                NaN   \n",
       "...                  ...          ...              ...                ...   \n",
       "11995                NaN          NaN              NaN                NaN   \n",
       "11996                NaN          NaN              NaN                NaN   \n",
       "11997                NaN          NaN              NaN                NaN   \n",
       "11998                NaN          NaN              NaN                NaN   \n",
       "11999                NaN          NaN              NaN                NaN   \n",
       "\n",
       "       omega-9-fat_unit  omega-9-fat_value  proteins_modifier  \n",
       "0                   NaN                NaN                NaN  \n",
       "1                   NaN                NaN                NaN  \n",
       "2                   NaN                NaN                NaN  \n",
       "3                   NaN                NaN                NaN  \n",
       "4                   NaN                NaN                NaN  \n",
       "...                 ...                ...                ...  \n",
       "11995               NaN                NaN                NaN  \n",
       "11996               NaN                NaN                NaN  \n",
       "11997               NaN                NaN                NaN  \n",
       "11998               NaN                NaN                NaN  \n",
       "11999               NaN                NaN                  <  \n",
       "\n",
       "[12000 rows x 385 columns]"
      ]
     },
     "execution_count": 10,
     "metadata": {},
     "output_type": "execute_result"
    }
   ],
   "source": [
    "df2 = pd.json_normalize(df1[\"nutriments\"]) \n",
    "df2"
   ]
  },
  {
   "cell_type": "code",
   "execution_count": 13,
   "id": "013f5909-843d-4173-b383-9716d8f35b6b",
   "metadata": {},
   "outputs": [
    {
     "data": {
      "text/html": [
       "<div>\n",
       "<style scoped>\n",
       "    .dataframe tbody tr th:only-of-type {\n",
       "        vertical-align: middle;\n",
       "    }\n",
       "\n",
       "    .dataframe tbody tr th {\n",
       "        vertical-align: top;\n",
       "    }\n",
       "\n",
       "    .dataframe thead th {\n",
       "        text-align: right;\n",
       "    }\n",
       "</style>\n",
       "<table border=\"1\" class=\"dataframe\">\n",
       "  <thead>\n",
       "    <tr style=\"text-align: right;\">\n",
       "      <th></th>\n",
       "      <th>brands</th>\n",
       "      <th>code</th>\n",
       "      <th>nutriments</th>\n",
       "      <th>product_name</th>\n",
       "      <th>carbohydrates</th>\n",
       "      <th>carbohydrates_100g</th>\n",
       "      <th>carbohydrates_serving</th>\n",
       "      <th>carbohydrates_unit</th>\n",
       "      <th>carbohydrates_value</th>\n",
       "      <th>energy</th>\n",
       "      <th>...</th>\n",
       "      <th>omega-6-fat_100g</th>\n",
       "      <th>omega-6-fat_label</th>\n",
       "      <th>omega-6-fat_unit</th>\n",
       "      <th>omega-6-fat_value</th>\n",
       "      <th>omega-9-fat</th>\n",
       "      <th>omega-9-fat_100g</th>\n",
       "      <th>omega-9-fat_label</th>\n",
       "      <th>omega-9-fat_unit</th>\n",
       "      <th>omega-9-fat_value</th>\n",
       "      <th>proteins_modifier</th>\n",
       "    </tr>\n",
       "  </thead>\n",
       "  <tbody>\n",
       "    <tr>\n",
       "      <th>0</th>\n",
       "      <td>Sidi Ali</td>\n",
       "      <td>6111035000430</td>\n",
       "      <td>{'carbohydrates': 42, 'carbohydrates_100g': 4....</td>\n",
       "      <td>Sidi Ali</td>\n",
       "      <td>42.0</td>\n",
       "      <td>4.2</td>\n",
       "      <td>42.0</td>\n",
       "      <td>g</td>\n",
       "      <td>42.0</td>\n",
       "      <td>20.0</td>\n",
       "      <td>...</td>\n",
       "      <td>NaN</td>\n",
       "      <td>NaN</td>\n",
       "      <td>NaN</td>\n",
       "      <td>NaN</td>\n",
       "      <td>NaN</td>\n",
       "      <td>NaN</td>\n",
       "      <td>NaN</td>\n",
       "      <td>NaN</td>\n",
       "      <td>NaN</td>\n",
       "      <td>NaN</td>\n",
       "    </tr>\n",
       "    <tr>\n",
       "      <th>1</th>\n",
       "      <td>Jaouda</td>\n",
       "      <td>6111242100992</td>\n",
       "      <td>{'calcium': 0.25, 'calcium_100g': 0.25, 'calci...</td>\n",
       "      <td>Perly</td>\n",
       "      <td>9.4</td>\n",
       "      <td>9.4</td>\n",
       "      <td>9.4</td>\n",
       "      <td>g</td>\n",
       "      <td>9.4</td>\n",
       "      <td>406.0</td>\n",
       "      <td>...</td>\n",
       "      <td>NaN</td>\n",
       "      <td>NaN</td>\n",
       "      <td>NaN</td>\n",
       "      <td>NaN</td>\n",
       "      <td>NaN</td>\n",
       "      <td>NaN</td>\n",
       "      <td>NaN</td>\n",
       "      <td>NaN</td>\n",
       "      <td>NaN</td>\n",
       "      <td>NaN</td>\n",
       "    </tr>\n",
       "    <tr>\n",
       "      <th>2</th>\n",
       "      <td>sidi ali</td>\n",
       "      <td>6111035002175</td>\n",
       "      <td>{'chloride': 0.014, 'chloride_100g': 0.014, 'c...</td>\n",
       "      <td>Sidi Ali</td>\n",
       "      <td>NaN</td>\n",
       "      <td>NaN</td>\n",
       "      <td>NaN</td>\n",
       "      <td>NaN</td>\n",
       "      <td>NaN</td>\n",
       "      <td>NaN</td>\n",
       "      <td>...</td>\n",
       "      <td>NaN</td>\n",
       "      <td>NaN</td>\n",
       "      <td>NaN</td>\n",
       "      <td>NaN</td>\n",
       "      <td>NaN</td>\n",
       "      <td>NaN</td>\n",
       "      <td>NaN</td>\n",
       "      <td>NaN</td>\n",
       "      <td>NaN</td>\n",
       "      <td>NaN</td>\n",
       "    </tr>\n",
       "    <tr>\n",
       "      <th>3</th>\n",
       "      <td>Les Eaux Minérales d'oulmès,Sidi Ali</td>\n",
       "      <td>6111035000058</td>\n",
       "      <td>{'fruits-vegetables-legumes-estimate-from-ingr...</td>\n",
       "      <td>Eau minérale naturelle</td>\n",
       "      <td>NaN</td>\n",
       "      <td>NaN</td>\n",
       "      <td>NaN</td>\n",
       "      <td>NaN</td>\n",
       "      <td>NaN</td>\n",
       "      <td>NaN</td>\n",
       "      <td>...</td>\n",
       "      <td>NaN</td>\n",
       "      <td>NaN</td>\n",
       "      <td>NaN</td>\n",
       "      <td>NaN</td>\n",
       "      <td>NaN</td>\n",
       "      <td>NaN</td>\n",
       "      <td>NaN</td>\n",
       "      <td>NaN</td>\n",
       "      <td>NaN</td>\n",
       "      <td>NaN</td>\n",
       "    </tr>\n",
       "    <tr>\n",
       "      <th>4</th>\n",
       "      <td>AQUAFINA</td>\n",
       "      <td>6111252421568</td>\n",
       "      <td>{'alcohol': 0, 'alcohol_100g': 0, 'alcohol_ser...</td>\n",
       "      <td>اكوافينا</td>\n",
       "      <td>0.0</td>\n",
       "      <td>0.0</td>\n",
       "      <td>0.0</td>\n",
       "      <td>g</td>\n",
       "      <td>0.0</td>\n",
       "      <td>0.0</td>\n",
       "      <td>...</td>\n",
       "      <td>NaN</td>\n",
       "      <td>NaN</td>\n",
       "      <td>NaN</td>\n",
       "      <td>NaN</td>\n",
       "      <td>NaN</td>\n",
       "      <td>NaN</td>\n",
       "      <td>NaN</td>\n",
       "      <td>NaN</td>\n",
       "      <td>NaN</td>\n",
       "      <td>NaN</td>\n",
       "    </tr>\n",
       "  </tbody>\n",
       "</table>\n",
       "<p>5 rows × 389 columns</p>\n",
       "</div>"
      ],
      "text/plain": [
       "                                 brands           code  \\\n",
       "0                              Sidi Ali  6111035000430   \n",
       "1                                Jaouda  6111242100992   \n",
       "2                              sidi ali  6111035002175   \n",
       "3  Les Eaux Minérales d'oulmès,Sidi Ali  6111035000058   \n",
       "4                              AQUAFINA  6111252421568   \n",
       "\n",
       "                                          nutriments            product_name  \\\n",
       "0  {'carbohydrates': 42, 'carbohydrates_100g': 4....                Sidi Ali   \n",
       "1  {'calcium': 0.25, 'calcium_100g': 0.25, 'calci...                   Perly   \n",
       "2  {'chloride': 0.014, 'chloride_100g': 0.014, 'c...                Sidi Ali   \n",
       "3  {'fruits-vegetables-legumes-estimate-from-ingr...  Eau minérale naturelle   \n",
       "4  {'alcohol': 0, 'alcohol_100g': 0, 'alcohol_ser...                اكوافينا   \n",
       "\n",
       "   carbohydrates  carbohydrates_100g  carbohydrates_serving  \\\n",
       "0           42.0                 4.2                   42.0   \n",
       "1            9.4                 9.4                    9.4   \n",
       "2            NaN                 NaN                    NaN   \n",
       "3            NaN                 NaN                    NaN   \n",
       "4            0.0                 0.0                    0.0   \n",
       "\n",
       "  carbohydrates_unit  carbohydrates_value  energy  ...  omega-6-fat_100g  \\\n",
       "0                  g                 42.0    20.0  ...               NaN   \n",
       "1                  g                  9.4   406.0  ...               NaN   \n",
       "2                NaN                  NaN     NaN  ...               NaN   \n",
       "3                NaN                  NaN     NaN  ...               NaN   \n",
       "4                  g                  0.0     0.0  ...               NaN   \n",
       "\n",
       "   omega-6-fat_label  omega-6-fat_unit omega-6-fat_value  omega-9-fat  \\\n",
       "0                NaN               NaN               NaN          NaN   \n",
       "1                NaN               NaN               NaN          NaN   \n",
       "2                NaN               NaN               NaN          NaN   \n",
       "3                NaN               NaN               NaN          NaN   \n",
       "4                NaN               NaN               NaN          NaN   \n",
       "\n",
       "   omega-9-fat_100g  omega-9-fat_label  omega-9-fat_unit  omega-9-fat_value  \\\n",
       "0               NaN                NaN               NaN                NaN   \n",
       "1               NaN                NaN               NaN                NaN   \n",
       "2               NaN                NaN               NaN                NaN   \n",
       "3               NaN                NaN               NaN                NaN   \n",
       "4               NaN                NaN               NaN                NaN   \n",
       "\n",
       "  proteins_modifier  \n",
       "0               NaN  \n",
       "1               NaN  \n",
       "2               NaN  \n",
       "3               NaN  \n",
       "4               NaN  \n",
       "\n",
       "[5 rows x 389 columns]"
      ]
     },
     "execution_count": 13,
     "metadata": {},
     "output_type": "execute_result"
    }
   ],
   "source": [
    "df = pd.concat([df1,df2],axis = 1)\n",
    "df.head()"
   ]
  },
  {
   "cell_type": "code",
   "execution_count": 18,
   "id": "2e032027-4bed-4b2a-83e3-d76bd2bac3fb",
   "metadata": {},
   "outputs": [],
   "source": [
    "\n",
    "def clean_chocolate_dataset(df):\n",
    "    \"\"\"\n",
    "    Cleans chocolate dataset by:\n",
    "    1. Flattening dict/list columns (e.g. 'nutriments')\n",
    "    2. Handling NaN values (median for numeric, 'Unknown' for categorical)\n",
    "    3. Removing duplicates\n",
    "    \"\"\"\n",
    "    df_clean = df.copy()\n",
    "\n",
    "    # --- Step 1: Flatten dict/list columns ---\n",
    "    for col in df_clean.columns:\n",
    "        if df_clean[col].apply(lambda x: isinstance(x, (dict, list))).any():\n",
    "            print(f\"Flattening column: {col}\")\n",
    "            expanded = pd.json_normalize(df_clean[col])\n",
    "            expanded.columns = [f\"{col}_{sub}\" for sub in expanded.columns]  # Rename for clarity\n",
    "            df_clean = pd.concat([df_clean.drop(columns=[col]), expanded], axis=1)\n",
    "\n",
    "    # --- Step 2: Handle NaN values ---\n",
    "    for col in df_clean.columns:\n",
    "        if pd.api.types.is_numeric_dtype(df_clean[col]):\n",
    "            # Fill numeric NaNs with median\n",
    "            df_clean[col] = df_clean[col].fillna(df_clean[col].median())\n",
    "        else:\n",
    "            # Fill categorical NaNs with 'Unknown'\n",
    "            df_clean[col] = df_clean[col].fillna(\"Unknown\")\n",
    "\n",
    "    # --- Step 3: Remove duplicates ---\n",
    "    duplicate_count = df_clean.duplicated().sum()\n",
    "    print(f\"Removing {duplicate_count} duplicate rows...\")\n",
    "    df_clean = df_clean.drop_duplicates()\n",
    "\n",
    "    # --- Step 4: Reset index ---\n",
    "    df_clean.reset_index(drop=True, inplace=True)\n",
    "\n",
    "    print(\"✅ Cleaning complete!\")\n",
    "    return df_clean\n"
   ]
  },
  {
   "cell_type": "code",
   "execution_count": null,
   "id": "7c8a2f5e-8c47-4bf4-996b-d0a8e56f912a",
   "metadata": {},
   "outputs": [],
   "source": []
  },
  {
   "cell_type": "code",
   "execution_count": 17,
   "id": "2e5771ca-7b16-41f1-8271-6af89b19ffa8",
   "metadata": {},
   "outputs": [
    {
     "data": {
      "text/plain": [
       "brands                   0\n",
       "code                     0\n",
       "nutriments               0\n",
       "product_name             0\n",
       "carbohydrates          720\n",
       "                     ...  \n",
       "omega-9-fat_100g     11880\n",
       "omega-9-fat_label    11880\n",
       "omega-9-fat_unit     11880\n",
       "omega-9-fat_value    11880\n",
       "proteins_modifier    11760\n",
       "Length: 389, dtype: int64"
      ]
     },
     "execution_count": 17,
     "metadata": {},
     "output_type": "execute_result"
    }
   ],
   "source": [
    "df.isnull().sum()"
   ]
  },
  {
   "cell_type": "code",
   "execution_count": null,
   "id": "3963ace3-f624-4fd4-ba6d-63ebd6a613a1",
   "metadata": {},
   "outputs": [],
   "source": []
  }
 ],
 "metadata": {
  "kernelspec": {
   "display_name": "Python 3 (ipykernel)",
   "language": "python",
   "name": "python3"
  },
  "language_info": {
   "codemirror_mode": {
    "name": "ipython",
    "version": 3
   },
   "file_extension": ".py",
   "mimetype": "text/x-python",
   "name": "python",
   "nbconvert_exporter": "python",
   "pygments_lexer": "ipython3",
   "version": "3.12.9"
  }
 },
 "nbformat": 4,
 "nbformat_minor": 5
}
